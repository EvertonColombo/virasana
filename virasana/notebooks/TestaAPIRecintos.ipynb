{
 "cells": [
  {
   "cell_type": "code",
   "execution_count": 11,
   "metadata": {},
   "outputs": [
    {
     "name": "stdout",
     "output_type": "stream",
     "text": [
      "Collecting requests-pkcs12\n",
      "  Using cached https://files.pythonhosted.org/packages/01/1b/e4a4e9e3dc24c51d8ccef70321abfec19cd1ea0edf60021f29bed5292096/requests_pkcs12-1.6-py2.py3-none-any.whl\n",
      "Requirement already satisfied: pyOpenSSL>=0.14 in c:\\users\\25052288840\\appdata\\local\\continuum\\anaconda3\\lib\\site-packages (from requests-pkcs12) (19.0.0)\n",
      "Requirement already satisfied: requests>=2.18.4 in c:\\users\\25052288840\\appdata\\local\\continuum\\anaconda3\\lib\\site-packages (from requests-pkcs12) (2.22.0)\n",
      "Requirement already satisfied: cryptography>=2.3 in c:\\users\\25052288840\\appdata\\local\\continuum\\anaconda3\\lib\\site-packages (from pyOpenSSL>=0.14->requests-pkcs12) (2.7)\n",
      "Requirement already satisfied: six>=1.5.2 in c:\\users\\25052288840\\appdata\\local\\continuum\\anaconda3\\lib\\site-packages (from pyOpenSSL>=0.14->requests-pkcs12) (1.12.0)\n",
      "Requirement already satisfied: certifi>=2017.4.17 in c:\\users\\25052288840\\appdata\\local\\continuum\\anaconda3\\lib\\site-packages (from requests>=2.18.4->requests-pkcs12) (2019.9.11)\n",
      "Requirement already satisfied: idna<2.9,>=2.5 in c:\\users\\25052288840\\appdata\\local\\continuum\\anaconda3\\lib\\site-packages (from requests>=2.18.4->requests-pkcs12) (2.8)\n",
      "Requirement already satisfied: urllib3!=1.25.0,!=1.25.1,<1.26,>=1.21.1 in c:\\users\\25052288840\\appdata\\local\\continuum\\anaconda3\\lib\\site-packages (from requests>=2.18.4->requests-pkcs12) (1.24.2)\n",
      "Requirement already satisfied: chardet<3.1.0,>=3.0.2 in c:\\users\\25052288840\\appdata\\local\\continuum\\anaconda3\\lib\\site-packages (from requests>=2.18.4->requests-pkcs12) (3.0.4)\n",
      "Requirement already satisfied: asn1crypto>=0.21.0 in c:\\users\\25052288840\\appdata\\local\\continuum\\anaconda3\\lib\\site-packages (from cryptography>=2.3->pyOpenSSL>=0.14->requests-pkcs12) (1.0.1)\n",
      "Requirement already satisfied: cffi!=1.11.3,>=1.8 in c:\\users\\25052288840\\appdata\\local\\continuum\\anaconda3\\lib\\site-packages (from cryptography>=2.3->pyOpenSSL>=0.14->requests-pkcs12) (1.12.3)\n",
      "Requirement already satisfied: pycparser in c:\\users\\25052288840\\appdata\\local\\continuum\\anaconda3\\lib\\site-packages (from cffi!=1.11.3,>=1.8->cryptography>=2.3->pyOpenSSL>=0.14->requests-pkcs12) (2.19)\n",
      "Installing collected packages: requests-pkcs12\n",
      "Successfully installed requests-pkcs12-1.6\n"
     ]
    }
   ],
   "source": [
    "import sys\n",
    "!{sys.executable} -m pip install requests-pkcs12"
   ]
  },
  {
   "cell_type": "code",
   "execution_count": 12,
   "metadata": {},
   "outputs": [],
   "source": [
    "from requests import Session\n",
    "from requests_pkcs12 import Pkcs12Adapter\n",
    "\n",
    "AUTENTICA_URL = 'https://tes.pucomex.serpro/portal/api/autenticar'"
   ]
  },
  {
   "cell_type": "code",
   "execution_count": 60,
   "metadata": {},
   "outputs": [
    {
     "name": "stderr",
     "output_type": "stream",
     "text": [
      "C:\\Users\\25052288840\\AppData\\Local\\Continuum\\anaconda3\\lib\\site-packages\\urllib3\\connectionpool.py:847: InsecureRequestWarning: Unverified HTTPS request is being made. Adding certificate verification is strongly advised. See: https://urllib3.readthedocs.io/en/latest/advanced-usage.html#ssl-warnings\n",
      "  InsecureRequestWarning)\n"
     ]
    },
    {
     "name": "stdout",
     "output_type": "stream",
     "text": [
      "{\"message\":\"Não foi possível identificar um certificado digital válido.\",\"path\":\"\",\"tag\":\"[PLAT-HHWZNRPRIV]\",\"date\":\"2020-01-23T18:03:11\",\"severity\":\"ERROR\",\"info\":{\"mnemonico\":\"PLAT\",\"sistema\":\"Plataforma\",\"ambiente\":\"TES\",\"visao\":\"PRIV\",\"url\":\"/pucomex-plataforma-service/api/plat/autenticar\"}}\n"
     ]
    }
   ],
   "source": [
    "with Session() as s:\n",
    "    s.mount(AUTENTICA_URL,\n",
    "            Pkcs12Adapter(pkcs12_filename='C:\\\\Users\\\\25052288840\\\\Downloads\\\\132656_CERTIFICADO_TESTES_INTEGRADOS.p12',\n",
    "                          pkcs12_password='123456'))\n",
    "    r = s.post('https://tes-pucomex-rcnt-priv.estaleiro.serpro/recintos-ext/api/ext/acesso-pessoas',\n",
    "               verify=False)\n",
    "    print(r.text)"
   ]
  },
  {
   "cell_type": "code",
   "execution_count": 27,
   "metadata": {},
   "outputs": [
    {
     "name": "stderr",
     "output_type": "stream",
     "text": [
      "C:\\Users\\25052288840\\AppData\\Local\\Continuum\\anaconda3\\lib\\site-packages\\urllib3\\connectionpool.py:847: InsecureRequestWarning: Unverified HTTPS request is being made. Adding certificate verification is strongly advised. See: https://urllib3.readthedocs.io/en/latest/advanced-usage.html#ssl-warnings\n",
      "  InsecureRequestWarning)\n"
     ]
    },
    {
     "name": "stdout",
     "output_type": "stream",
     "text": [
      "{\"token\":\"eSPY0joQGP308PcJVZcnNhtetHfKtH5U/AIsB29dOQCkG0RR3jpYIXau32SCkMyNLn63PepB59s=\"}\n"
     ]
    }
   ],
   "source": [
    "from requests_pkcs12 import post\n",
    "\n",
    "def recintos_post(url, headers):\n",
    "r = post(AUTENTICA_URL, headers={'Role-Type': 'DEPOSIT'},\n",
    "         pkcs12_filename='C:\\\\Users\\\\25052288840\\\\Downloads\\\\132656_CERTIFICADO_TESTES_INTEGRADOS.p12',\n",
    "         pkcs12_password='123456',\n",
    "        verify=False)\n",
    "print(r.text)"
   ]
  },
  {
   "cell_type": "code",
   "execution_count": 39,
   "metadata": {},
   "outputs": [],
   "source": [
    "from requests_pkcs12 import post\n",
    "def recintos_post(url='', headers={}):\n",
    "    r = post(url, headers=headers,\n",
    "         pkcs12_filename='C:\\\\Users\\\\25052288840\\\\Downloads\\\\132656_CERTIFICADO_TESTES_INTEGRADOS.p12',\n",
    "         pkcs12_password='123456',\n",
    "        verify=False)\n",
    "    print(r.text)\n",
    "    return r\n",
    "\n"
   ]
  },
  {
   "cell_type": "code",
   "execution_count": 75,
   "metadata": {},
   "outputs": [
    {
     "name": "stderr",
     "output_type": "stream",
     "text": [
      "C:\\Users\\25052288840\\AppData\\Local\\Continuum\\anaconda3\\lib\\site-packages\\urllib3\\connectionpool.py:847: InsecureRequestWarning: Unverified HTTPS request is being made. Adding certificate verification is strongly advised. See: https://urllib3.readthedocs.io/en/latest/advanced-usage.html#ssl-warnings\n",
      "  InsecureRequestWarning)\n"
     ]
    },
    {
     "name": "stdout",
     "output_type": "stream",
     "text": [
      "{\"token\":\"NDnUVwczPccjv6n48wvE5344DqN+HfGMfmDQa6UoNXlnq4HfqEnomqE2RpxWFJXJ1zhPPkk4rNc=\"}\n"
     ]
    }
   ],
   "source": [
    "r = recintos_post('https://tes.pucomex.serpro/portal/api/autenticar', headers={'Role-Type': 'DEPOSIT'})\n",
    "xcsrftoken = r.headers['X-CSRF-Token']\n",
    "authentication = r.headers['Set-Token']"
   ]
  },
  {
   "cell_type": "code",
   "execution_count": 76,
   "metadata": {},
   "outputs": [
    {
     "name": "stdout",
     "output_type": "stream",
     "text": [
      "{\"message\":\"Ocorreu um erro inesperado. Por favor, tente novamente. Se o problema persistir, acione a Central Serpro de Atendimento anexando todo o conteúdo do response.\",\"code\":\"PUCX-ER0001\",\"field\":null,\"path\":null,\"tag\":\"[RCNT-PBIRYQW9GD]\",\"date\":\"2020-01-27T10:45:38\",\"status\":500,\"detail\":null,\"severity\":\"ERROR\",\"info\":{\"mnemonico\":\"RCNT\",\"sistema\":\"Recintos de Comércio Exterior\",\"ambiente\":\"TES\",\"visao\":\"PRIV\",\"usuario\":\"07073311703\",\"url\":\"/recintos-ext/api/ext/pesagem-veiculos-cargas\",\"fluxo\":null}}\n"
     ]
    },
    {
     "name": "stderr",
     "output_type": "stream",
     "text": [
      "C:\\Users\\25052288840\\AppData\\Local\\Continuum\\anaconda3\\lib\\site-packages\\urllib3\\connectionpool.py:847: InsecureRequestWarning: Unverified HTTPS request is being made. Adding certificate verification is strongly advised. See: https://urllib3.readthedocs.io/en/latest/advanced-usage.html#ssl-warnings\n",
      "  InsecureRequestWarning)\n"
     ]
    }
   ],
   "source": [
    "r = recintos_post('https://tes-pucomex-rcnt-priv.estaleiro.serpro/recintos-ext/api/ext/pesagem-veiculos-cargas',\n",
    "                  {'x-csrf-token': xcsrftoken,\n",
    "                   'authorization': authentication,\n",
    "                   'cnpj-representante': '92772821010712',\n",
    "                   'Content-Type': 'application/json'})"
   ]
  },
  {
   "cell_type": "code",
   "execution_count": null,
   "metadata": {},
   "outputs": [],
   "source": [
    "curl 'https://tes.pucomex.serpro/portal/api/autenticar' -X POST \n",
    "-H 'Accept: */*' \n",
    "-H 'Referer: https://des-pucomex-rcnt-priv.estaleiro.serpro/recintos-simulador/' \n",
    "-H 'Origin: https://des-pucomex-rcnt-priv.estaleiro.serpro' \n",
    "-H 'Role-Type: DEPOSIT' \n",
    "-H 'User-Agent: Mozilla/5.0 (Windows NT 10.0; WOW64) AppleWebKit/537.36 (KHTML, like Gecko) Chrome/72.0.3626.121 Safari/537.36'\n",
    "--compressed --insecure ;\n",
    "curl 'https://tes-pucomex-rcnt-priv.estaleiro.serpro/recintos-ext/api/ext/pesagem-veiculos-cargas' \n",
    "-H 'cnpj-representante: 92772821010712' \n",
    "-H 'origin: https://des-pucomex-rcnt-priv.estaleiro.serpro' \n",
    "-H 'accept-encoding: gzip, deflate, br' \n",
    "-H 'x-csrf-token: YJVNL4jWPDSFfG74EXL6LoKG+h/AkDMfU2/bLoPE8vA8Z09a9ctIqROg3sQWEyyhM+maNQx4AtQ=' \n",
    "-H 'accept-language: pt-BR,pt;q=0.9,en-US;q=0.8,en;q=0.7' \n",
    "-H 'authorization: eyJhbGciOiJSUzI1NiJ9.eyJleHRlbnNhbyI6IiIsInN1YiI6IjA3MDczMzExNzAzIiwidGlwbyI6IlBGIiwiaXAiOiIxMC42MS4xNi43OSIsImlzcyI6IlBSSVYiLCJpZGNjIjo0ODIsIm5vbWUiOiJDRVJUSUZJQ0FETyBURVNURVMgSU5URUdSQURPUyIsImlwT3JpZ2VtIjoiMTAuNjEuMTYuNzkiLCJkZXNjcmljYW8iOiJDRVJUSUZJQ0FETyBURVNURVMgSU5URUdSQURPUyIsInBlcmZpcyI6Ikg0c0lBQUFBQUFBQUFGV1B3UXJDTUF5R1g2aFBzRnRvZ3hSY050Sk1obU9Ic2Uyd2l4TzNtX2d3UG9zdlpxeXQ0S0gwNDBfeV8wbDMzMl9EWlJ2R2RkNkt6bHBoeGdPU0dFVTQtbUNCUDhpMm91REVzQ1hCazlZclZVRWNTbTVnS2EybmlFQUMxbjNIZ0JodGRzallrQmRfTmtEWXh2ZUxLSUdNYTdCVjFDLXFkUldTR1NTSDFNQVk4bGplOXo4TjI2aXlWbjFaUjNRWU5OdWtNMU92bnVrOFkyLVdxWENvZVY3TU5HOWo0ZWJydWkzNzYzbGIxa2ZfQnBBcklTc3FBUUFBIiwiY3JlZGVuY2lhbCI6NiwiY3BmIjoiMDcwNzMzMTE3MDMiLCJpYXQiOjE1ODAxMzI0MDcsImNvbnRyb2xlIjo3LCJoYXNoIjoiMjBhNWMyZmE4MDkyYzg4NjVlNmRkMGJlY2Q5ZTJlNzQifQ.xvTPHAm5hVhv_IsVYCLab0BKtd6LeUpb1eCxP-3wfJiNj6YaKfZ1Ejeq8o0zuxtPQzhOjlMDcoK9tLms9KI4wOb0-D0SvOoe8u1tHM3Ek1R7vjmctkLpLb7hhOvZNRJIZ4n8xCFPWYSupeOAVSUI8aGACgn5cfN597SZpjgDXgeBrkcioSKVvcNtKXFEkUOEIEQW-BMPCZpBX4dyAMXdB6PDp16nTHaQvAthai57oPN5V93LK1NX-yUDWuBEG5qfkX7gqX3ymJAObXEVRhb7KcxDYPqla_uG1lxMfDDCMBlMiRXrc5R3xqefz99vJJx3q7mxszSELfqX7zNMlnuT6A' -H 'content-type: application/json'\n",
    "-H 'accept: */*' \n",
    "-H 'referer: https://des-pucomex-rcnt-priv.estaleiro.serpro/recintos-simulador/' \n",
    "-H 'authority: tes-pucomex-rcnt-priv.estaleiro.serpro' \n",
    "-H 'user-agent: Mozilla/5.0 (Windows NT 10.0; WOW64) AppleWebKit/537.36 (KHTML, like Gecko) Chrome/72.0.3626.121 Safari/537.36' \n",
    "--data-binary $'{\\n  \"idEvento\": \"string\",\\n  \"dtHrOcorrencia\": \"2019-08-07T13:36:51.809Z\",\\n  \"dtHrRegistro\": \"2019-08-07T13:36:51.809Z\",\\n  \"cpfOperOcor\": \"02297768923\",\\n  \"cpfOperReg\": \"02297768923\",\\n  \"tipoOperacao\": \"I\",\\n  \"protocoloEventoRetifCanc\": \"string\",\\n  \"contingencia\": false,\\n  \"listaManifestos\": [\\n    {\\n      \"num\": \"string\",\\n      \"tipo\": \"DAT\",\\n      \"listaConhecimentos\": [\\n        {\\n          \"num\": \"string\",\\n          \"tipo\": \"CRT\"\\n        }\\n      ]\\n    }\\n  ],\\n  \"pesoBrutoManifesto\": 0,\\n  \"placa\": \"string\",\\n  \"tara\": 0,\\n  \"listaSemirreboque\": [\\n    {\\n      \"placa\": \"string\",\\n      \"tara\": 0\\n    }\\n  ],\\n  \"taraConjunto\": 0,\\n  \"numConteinerUld\": \"string\",\\n  \"tipoConteinerUld\": \"string\",\\n  \"taraConteinerUld\": 0,\\n  \"pesoBrutoBalanca\": 0,\\n  \"capturaAutoPeso\": true,\\n  \"dutos\": \"E\",\\n  \"volume\": 0,\\n  \"balanca\": \"protocolo georref 05.21\",\\n  \"listaCameras\": [\\n    \"protocolo georref 05.21\",\\n    \"protocolo georref 05.21\"\\n  ]\\n}' \n",
    "--compressed --insecure"
   ]
  }
 ],
 "metadata": {
  "kernelspec": {
   "display_name": "virasana",
   "language": "python",
   "name": "virasana"
  },
  "language_info": {
   "codemirror_mode": {
    "name": "ipython",
    "version": 3
   },
   "file_extension": ".py",
   "mimetype": "text/x-python",
   "name": "python",
   "nbconvert_exporter": "python",
   "pygments_lexer": "ipython3",
   "version": "3.7.4"
  }
 },
 "nbformat": 4,
 "nbformat_minor": 4
}
