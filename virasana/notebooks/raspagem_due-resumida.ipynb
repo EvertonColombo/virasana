{
 "cells": [
  {
   "cell_type": "code",
   "execution_count": 1,
   "metadata": {
    "ExecuteTime": {
     "end_time": "2019-09-10T13:24:22.734834Z",
     "start_time": "2019-09-10T13:24:13.849619Z"
    }
   },
   "outputs": [
    {
     "name": "stderr",
     "output_type": "stream",
     "text": [
      "2020-02-14 09:53:14,326 ajna         INFO     Configuração de log efetuada\n"
     ]
    },
    {
     "name": "stdout",
     "output_type": "stream",
     "text": [
      "Fazendo log de erros e alertas no arquivo  ../../../ajna_docs/commons\\ajna_commons\\flask\\error.log\n",
      "Fazendo log de atividade no arquivo  ../../../ajna_docs/commons\\ajna_commons\\flask\\access.log\n"
     ]
    }
   ],
   "source": [
    "import json\n",
    "import requests\n",
    "import sys\n",
    "import warnings\n",
    "from datetime import datetime, time, timedelta\n",
    "from selenium import webdriver\n",
    "GECKO_PATH = 'C:\\\\Users\\\\25052288840\\\\Downloads\\\\chromedriver.exe'\n",
    "sys.path.insert(0, '../../../ajna_docs/commons/')\n",
    "sys.path.insert(0, '../../../commons/')\n",
    "sys.path.insert(0, '../../../virasana/')\n",
    "from virasana.integracao.due import raspa_due\n",
    "\n",
    "warnings.simplefilter(\"ignore\")\n",
    "\n",
    "VIRASANA_URL = \"https://ajna.labin.rf08.srf/virasana/\""
   ]
  },
  {
   "cell_type": "code",
   "execution_count": 2,
   "metadata": {
    "ExecuteTime": {
     "end_time": "2019-09-05T14:38:57.106590Z",
     "start_time": "2019-09-05T14:38:56.903899Z"
    }
   },
   "outputs": [],
   "source": [
    "def do_update(driver, tipo_manifesto):\n",
    "    if tipo_manifesto == 'VAZIO':\n",
    "            conteineres_ids = raspa_due.raspa_containers_vazios_sem_due(\n",
    "            datainicial, datafinal)\n",
    "    else:\n",
    "        conteineres_ids = raspa_due.raspa_containers_sem_due(\n",
    "            datainicial, datafinal, tipo_manifesto)\n",
    "    print('%s contêineres a consultar em POS ACD' % len(conteineres_ids))\n",
    "    conteineres_listadue = raspa_due.get_dues_pos_acd(driver, list(conteineres_ids.keys()))\n",
    "    setdues = set()\n",
    "    for conteiner, dues in conteineres_listadue.items():\n",
    "        for due in dues:\n",
    "            setdues.add(due)\n",
    "    print('%s contêineres a consultar em DUE DETALHE' % len(setdues))\n",
    "    due_detalhe = raspa_due.detalha_dues(driver, conteineres_listadue)\n",
    "    print(len(due_detalhe))\n",
    "    pacote_carregamento = {}\n",
    "    for conteiner, numeros_dues in conteineres_listadue.items():\n",
    "        _id = conteineres_ids[conteiner]\n",
    "        lista_dues = []\n",
    "        for due in numeros_dues:\n",
    "            if due is not None:\n",
    "                pacote = raspa_due.monta_due_ajna(due_detalhe[due])\n",
    "                lista_dues.append({'numero': due, **pacote})\n",
    "        if numeros_dues and len(numeros_dues) > 0:\n",
    "            pacote_carregamento[_id] = lista_dues\n",
    "    print('Inserindo %d dues...' % len(pacote_carregamento))\n",
    "    r = requests.post(VIRASANA_URL + \"dues/update\", json=pacote_carregamento, verify=False)\n",
    "    print(r.status_code)\n",
    "    print(r.text)"
   ]
  },
  {
   "cell_type": "code",
   "execution_count": 3,
   "metadata": {},
   "outputs": [
    {
     "name": "stdout",
     "output_type": "stream",
     "text": [
      "2020-02-13  00:00:00 2020-02-13 23:59:59\n"
     ]
    }
   ],
   "source": [
    "diaapesquisar = datetime.today() - timedelta(days=1)\n",
    "datainicial = datetime.strftime(datetime.combine(diaapesquisar, time.min), '%Y-%m-%d  %H:%M:%S')\n",
    "datafinal = datetime.strftime(datetime.combine(diaapesquisar, time.max), '%Y-%m-%d %H:%M:%S')\n",
    "print(datainicial, datafinal)"
   ]
  },
  {
   "cell_type": "code",
   "execution_count": 4,
   "metadata": {},
   "outputs": [
    {
     "name": "stdout",
     "output_type": "stream",
     "text": [
      "Conectando virasana\n",
      "61 Contêineres recuperados.\n",
      "60 contêineres a consultar em POS ACD\n",
      "28 contêineres a consultar em DUE DETALHE\n",
      "27\n",
      "Inserindo 58 dues...\n",
      "201\n",
      "{\"status\":\"DUEs inseridas/atualizadas\"}\n",
      "\n",
      "Conectando virasana\n",
      "2209 Contêineres recuperados.\n",
      "2172 contêineres a consultar em POS ACD\n",
      "468 contêineres a consultar em DUE DETALHE\n",
      "467\n",
      "Inserindo 1083 dues...\n",
      "201\n",
      "{\"status\":\"DUEs inseridas/atualizadas\"}\n",
      "\n",
      "Conectando virasana\n",
      "19 Contêineres recuperados.\n",
      "19 contêineres a consultar em POS ACD\n",
      "0 contêineres a consultar em DUE DETALHE\n",
      "0\n",
      "Inserindo 0 dues...\n",
      "201\n",
      "{\"status\":\"DUEs inseridas/atualizadas\"}\n",
      "\n"
     ]
    }
   ],
   "source": [
    "driver = webdriver.Chrome(GECKO_PATH)\n",
    "try:\n",
    "    raspa_due.auth_suite_rfb(driver)\n",
    "    do_update(driver, 'lce')\n",
    "    do_update(driver, None)\n",
    "    do_update(driver, 'VAZIO')\n",
    "finally:\n",
    "    driver.close()\n"
   ]
  },
  {
   "cell_type": "code",
   "execution_count": 66,
   "metadata": {},
   "outputs": [],
   "source": [
    "params = {'query':\n",
    "               {'metadata.carga.conhecimento.conhecimento': '152005011610119',\n",
    "                 'metadata.contentType': 'image/jpeg',\n",
    "                'metadata.numeroinformado': 'PONU7791526'\n",
    "                 },\n",
    "          'projection':\n",
    "               {'_id': 1}\n",
    "         }\n",
    "r = requests.post('https://ajna.labin.rf08.srf/virasana/grid_data', json=params, verify=False)\n"
   ]
  },
  {
   "cell_type": "code",
   "execution_count": 67,
   "metadata": {},
   "outputs": [
    {
     "data": {
      "text/plain": [
       "b'[{\"_id\":\"5e2f17b6f4b6dda7f156d121\"}]\\n'"
      ]
     },
     "execution_count": 67,
     "metadata": {},
     "output_type": "execute_result"
    }
   ],
   "source": [
    "r.content"
   ]
  },
  {
   "cell_type": "code",
   "execution_count": 68,
   "metadata": {},
   "outputs": [],
   "source": [
    "lista = r.json()"
   ]
  },
  {
   "cell_type": "code",
   "execution_count": 69,
   "metadata": {},
   "outputs": [],
   "source": [
    "_id = lista[0]['_id']"
   ]
  },
  {
   "cell_type": "code",
   "execution_count": 70,
   "metadata": {},
   "outputs": [
    {
     "data": {
      "text/plain": [
       "'5e2f17b6f4b6dda7f156d121'"
      ]
     },
     "execution_count": 70,
     "metadata": {},
     "output_type": "execute_result"
    }
   ],
   "source": [
    "_id"
   ]
  },
  {
   "cell_type": "code",
   "execution_count": null,
   "metadata": {},
   "outputs": [],
   "source": []
  }
 ],
 "metadata": {
  "kernelspec": {
   "display_name": "virasana",
   "language": "python",
   "name": "virasana"
  },
  "language_info": {
   "codemirror_mode": {
    "name": "ipython",
    "version": 3
   },
   "file_extension": ".py",
   "mimetype": "text/x-python",
   "name": "python",
   "nbconvert_exporter": "python",
   "pygments_lexer": "ipython3",
   "version": "3.7.4"
  }
 },
 "nbformat": 4,
 "nbformat_minor": 2
}
