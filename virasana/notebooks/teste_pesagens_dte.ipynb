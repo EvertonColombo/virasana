{
 "cells": [
  {
   "cell_type": "code",
   "execution_count": 1,
   "metadata": {},
   "outputs": [
    {
     "name": "stdout",
     "output_type": "stream",
     "text": [
      "D:\\Users\\25052288840\\pybr\\ajna_docs\\virasana\\virasana\\notebooks\n"
     ]
    }
   ],
   "source": [
    "import csv\n",
    "import requests\n",
    "import os\n",
    "import sys\n",
    "sys.path.insert(0, '..\\..')\n",
    "from datetime import datetime, timedelta\n",
    "from ajna_commons.utils.sanitiza import sanitizar, mongo_sanitizar\n",
    "\n",
    "print(os.getcwd())\n",
    "with open(os.path.join('..', 'integracao', 'dte.info')) as dte_info:\n",
    "    linha = dte_info.readline()\n",
    "DTE_USERNAME = os.environ.get('DTE_USERNAME')\n",
    "DTE_PASSWORD = os.environ.get('DTE_PASSWORD')\n",
    "DTE_USERNAME = linha.split(',')[0]\n",
    "DTE_PASSWORD = linha.split(',')[1]\n"
   ]
  },
  {
   "cell_type": "code",
   "execution_count": 2,
   "metadata": {},
   "outputs": [],
   "source": [
    "with open(os.path.join('..', 'integracao', 'recintos.csv'), encoding='utf-8') as csv_in:\n",
    "    reader = csv.reader(csv_in)\n",
    "    recintos_list = [row for row in reader]"
   ]
  },
  {
   "cell_type": "code",
   "execution_count": 3,
   "metadata": {},
   "outputs": [],
   "source": [
    "DTE_URL = 'https://www.janelaunicaportuaria.org.br/ws_homologacao/sepes/api/Pesagem'\n",
    "def get_token_dte(username=DTE_USERNAME, password=DTE_PASSWORD):\n",
    "    data = {'username': username, 'password': password, 'grant_type': 'password'}\n",
    "    r = requests.post(DTE_URL + '/token', data=data)\n",
    "    token = r.json().get('access_token')\n",
    "    return token"
   ]
  },
  {
   "cell_type": "code",
   "execution_count": 4,
   "metadata": {},
   "outputs": [],
   "source": [
    "def get_pesagens_dte(datainicial, datafinal, recinto, token):\n",
    "    payload = {'data_inicio': datetime.strftime(datainicial, '%Y-%m-%d'),\n",
    "               'data_fim': datetime.strftime(datafinal, '%Y-%m-%d'),\n",
    "               'cod_recinto': recinto}\n",
    "    headers = {'Authorization': 'Bearer ' + token}\n",
    "    r = requests.get(DTE_URL, headers=headers, params=payload)\n",
    "    print(r.url)\n",
    "    try:\n",
    "        lista_pesagens = r.json()['JUP_WS']['Pesagens']['Lista_Pesagens']\n",
    "    except:\n",
    "        print(r, r.text)\n",
    "    return lista_pesagens"
   ]
  },
  {
   "cell_type": "code",
   "execution_count": 5,
   "metadata": {},
   "outputs": [],
   "source": [
    "# Pegar só BTP\n",
    "recintos_list = [[0], [22], [846]]"
   ]
  },
  {
   "cell_type": "code",
   "execution_count": 6,
   "metadata": {},
   "outputs": [
    {
     "name": "stdout",
     "output_type": "stream",
     "text": [
      "https://www.janelaunicaportuaria.org.br/ws_homologacao/sepes/api/Pesagem?data_inicio=2019-04-06&data_fim=2019-04-06&cod_recinto=22\n",
      "22 157\n",
      "https://www.janelaunicaportuaria.org.br/ws_homologacao/sepes/api/Pesagem?data_inicio=2019-04-06&data_fim=2019-04-06&cod_recinto=846\n",
      "846 469\n"
     ]
    }
   ],
   "source": [
    "from collections import defaultdict\n",
    "token = get_token_dte()\n",
    "start = end = datetime.now() - timedelta(days=1)\n",
    "start = end = datetime.strptime('06/04/2019', '%d/%m/%Y')\n",
    "pesagens_recintos = defaultdict(list)\n",
    "for linha in recintos_list[1:]:\n",
    "    recinto = linha[0]\n",
    "    pesagens_recinto = get_pesagens_dte(start, end, recinto, token)\n",
    "    if pesagens_recinto and len(pesagens_recinto) > 0:\n",
    "        print(recinto, len(pesagens_recinto))\n",
    "        pesagens_recintos[recinto].extend(pesagens_recinto)"
   ]
  },
  {
   "cell_type": "code",
   "execution_count": 7,
   "metadata": {},
   "outputs": [
    {
     "name": "stdout",
     "output_type": "stream",
     "text": [
      "22\n",
      "{'Recinto': 'Brasil Terminal Portuario', 'PlacaCavalo': 'FGW8436', 'PlacaCarreta': '', 'DataHoraEntrada': '', 'ID_BalancaEntrada': '', 'VeiculoCarregadoEntrada': 'NÃO', 'CodigoConteinerEntrada': '', 'PesoEntrada': '0', 'DataHoraSaida': '2019-04-06 06:03:07', 'ID_BalancaSaida': '', 'VeiculoCarregadoSaida': 'SIM', 'CodigoConteinerSaida': 'TCLU1454367', 'PesoSaida': '38570,000'}\n",
      "846\n"
     ]
    }
   ],
   "source": [
    "for recinto, pesagem_recinto in pesagens_recintos.items():\n",
    "    print(recinto)\n",
    "    for pesagem in pesagem_recinto:\n",
    "        if pesagem.get('CodigoConteinerEntrada') == 'TCLU1454367':\n",
    "            print(pesagem)\n",
    "        if pesagem.get('CodigoConteinerSaida') == 'TCLU1454367':\n",
    "            print(pesagem)"
   ]
  },
  {
   "cell_type": "code",
   "execution_count": 8,
   "metadata": {},
   "outputs": [],
   "source": [
    "import csv\n",
    "for recinto, pesagem_recinto in pesagens_recintos.items():\n",
    "    keys = pesagem_recinto[0].keys()\n",
    "    break\n",
    "with open('pesagem20190406.csv', 'w', newline='', encoding='utf-8') as csv_out:\n",
    "    writer = csv.DictWriter(csv_out, fieldnames=['CodRecinto', *keys])\n",
    "    writer.writeheader()\n",
    "    for recinto, pesagem_recinto in pesagens_recintos.items():\n",
    "        for pesagem in pesagem_recinto:\n",
    "            writer.writerow({'CodRecinto': recinto, **pesagem})\n"
   ]
  },
  {
   "cell_type": "code",
   "execution_count": 6,
   "metadata": {},
   "outputs": [
    {
     "name": "stdout",
     "output_type": "stream",
     "text": [
      "1004\n"
     ]
    }
   ],
   "source": [
    "def trata_pesagem_dte(registro):\n",
    "    new_dict = {}\n",
    "    for key, value in registro.items():\n",
    "        key = sanitizar(key, mongo_sanitizar)\n",
    "        value = sanitizar(value, mongo_sanitizar)\n",
    "        new_dict[key] = value\n",
    "    new_dict['datahoraentradaiso'] = datetime.strptime(new_dict['datahoraentrada'], '%Y-%m-%d %H:%M:%S')\n",
    "    datahorasaida = new_dict['datahorasaida']\n",
    "    if datahorasaida:\n",
    "        new_dict['datahorasaidaiso'] = datetime.strptime(new_dict['datahorasaida'], '%Y-%m-%d %H:%M:%S')\n",
    "    new_dict['pesoentradafloat'] = float(new_dict['pesoentrada'].replace(',', '.'))\n",
    "    new_dict['pesosaidafloat'] = float(new_dict['pesosaida'].replace(',', '.'))\n",
    "    new_dict['veiculocarregadosaidabool'] = new_dict['veiculocarregadosaida'] == \"sim\"\n",
    "    new_dict['veiculocarregadoentradabool'] = new_dict['veiculocarregadoentrada'] == \"sim\"\n",
    "    return(new_dict)\n",
    "\n",
    "i = 0\n",
    "for recinto, pesagens in pesagens_recintos.items():\n",
    "    for pesagem in pesagens:\n",
    "        if pesagem['CodigoConteinerEntrada'] or pesagem['CodigoConteinerSaida']:\n",
    "            pesagem_insert_mongo = {'codigo_recinto': recinto}\n",
    "            pesagem_insert_mongo.update(trata_pesagem_dte(pesagem))\n",
    "            # print(pesagem_insert_mongo)\n",
    "            #break\n",
    "            i += 1\n",
    "print(i)"
   ]
  },
  {
   "cell_type": "code",
   "execution_count": null,
   "metadata": {},
   "outputs": [],
   "source": []
  }
 ],
 "metadata": {
  "kernelspec": {
   "display_name": "Python 3",
   "language": "python",
   "name": "python3"
  },
  "language_info": {
   "codemirror_mode": {
    "name": "ipython",
    "version": 3
   },
   "file_extension": ".py",
   "mimetype": "text/x-python",
   "name": "python",
   "nbconvert_exporter": "python",
   "pygments_lexer": "ipython3",
   "version": "3.6.5"
  }
 },
 "nbformat": 4,
 "nbformat_minor": 2
}
