{
 "cells": [
  {
   "cell_type": "code",
   "execution_count": 8,
   "metadata": {},
   "outputs": [
    {
     "name": "stdout",
     "output_type": "stream",
     "text": [
      "D:\\Users\\25052288840\\pybr\\ajna_docs\\virasana\\virasana\\notebooks\n"
     ]
    }
   ],
   "source": [
    "import csv\n",
    "import requests\n",
    "import os\n",
    "import sys\n",
    "sys.path.insert(0, '..\\..')\n",
    "from datetime import datetime, timedelta\n",
    "from ajna_commons.utils.sanitiza import sanitizar, mongo_sanitizar\n",
    "\n",
    "print(os.getcwd())\n",
    "with open(os.path.join('..', 'integracao', 'dte.info')) as dte_info:\n",
    "    linha = dte_info.readline()\n",
    "DTE_USERNAME = os.environ.get('DTE_USERNAME')\n",
    "DTE_PASSWORD = os.environ.get('DTE_PASSWORD')\n",
    "DTE_USERNAME = linha.split(',')[0]\n",
    "DTE_PASSWORD = linha.split(',')[1]\n"
   ]
  },
  {
   "cell_type": "code",
   "execution_count": 34,
   "metadata": {},
   "outputs": [],
   "source": [
    "with open(os.path.join('..', 'integracao', 'recintos.csv'), encoding='utf-8') as csv_in:\n",
    "    reader = csv.reader(csv_in)\n",
    "    recintos_list = [row for row in reader]"
   ]
  },
  {
   "cell_type": "code",
   "execution_count": 10,
   "metadata": {},
   "outputs": [],
   "source": [
    "DTE_URL = 'https://www.janelaunicaportuaria.org.br/ws_homologacao/sepes/api/Pesagem'\n",
    "def get_token_dte(username=DTE_USERNAME, password=DTE_PASSWORD):\n",
    "    data = {'username': username, 'password': password, 'grant_type': 'password'}\n",
    "    r = requests.post(DTE_URL + '/token', data=data)\n",
    "    token = r.json().get('access_token')\n",
    "    return token"
   ]
  },
  {
   "cell_type": "code",
   "execution_count": 11,
   "metadata": {},
   "outputs": [],
   "source": [
    "def get_pesagens_dte(datainicial, datafinal, recinto, token):\n",
    "    payload = {'data_inicio': datetime.strftime(datainicial, '%Y-%m-%d'),\n",
    "               'data_fim': datetime.strftime(datafinal, '%Y-%m-%d'),\n",
    "               'cod_recinto': recinto}\n",
    "    headers = {'Authorization': 'Bearer ' + token}\n",
    "    r = requests.get(DTE_URL, headers=headers, params=payload)\n",
    "    print(r.url)\n",
    "    try:\n",
    "        lista_pesagens = r.json()['JUP_WS']['Pesagens']['Lista_Pesagens']\n",
    "    except:\n",
    "        print(r, r.text)\n",
    "    return lista_pesagens"
   ]
  },
  {
   "cell_type": "code",
   "execution_count": 16,
   "metadata": {},
   "outputs": [],
   "source": [
    "# Pegar só BTP\n",
    "recintos_list = [[0], [22], [846]]"
   ]
  },
  {
   "cell_type": "code",
   "execution_count": 35,
   "metadata": {},
   "outputs": [
    {
     "name": "stdout",
     "output_type": "stream",
     "text": [
      "https://www.janelaunicaportuaria.org.br/ws_homologacao/sepes/api/Pesagem?data_inicio=2019-04-01&data_fim=2019-04-01&cod_recinto=25\n",
      "25 325\n",
      "https://www.janelaunicaportuaria.org.br/ws_homologacao/sepes/api/Pesagem?data_inicio=2019-04-01&data_fim=2019-04-01&cod_recinto=105\n",
      "https://www.janelaunicaportuaria.org.br/ws_homologacao/sepes/api/Pesagem?data_inicio=2019-04-01&data_fim=2019-04-01&cod_recinto=22\n",
      "22 379\n",
      "https://www.janelaunicaportuaria.org.br/ws_homologacao/sepes/api/Pesagem?data_inicio=2019-04-01&data_fim=2019-04-01&cod_recinto=846\n",
      "846 793\n",
      "https://www.janelaunicaportuaria.org.br/ws_homologacao/sepes/api/Pesagem?data_inicio=2019-04-01&data_fim=2019-04-01&cod_recinto=24\n",
      "https://www.janelaunicaportuaria.org.br/ws_homologacao/sepes/api/Pesagem?data_inicio=2019-04-01&data_fim=2019-04-01&cod_recinto=839\n",
      "https://www.janelaunicaportuaria.org.br/ws_homologacao/sepes/api/Pesagem?data_inicio=2019-04-01&data_fim=2019-04-01&cod_recinto=45\n",
      "https://www.janelaunicaportuaria.org.br/ws_homologacao/sepes/api/Pesagem?data_inicio=2019-04-01&data_fim=2019-04-01&cod_recinto=108\n",
      "https://www.janelaunicaportuaria.org.br/ws_homologacao/sepes/api/Pesagem?data_inicio=2019-04-01&data_fim=2019-04-01&cod_recinto=103\n",
      "https://www.janelaunicaportuaria.org.br/ws_homologacao/sepes/api/Pesagem?data_inicio=2019-04-01&data_fim=2019-04-01&cod_recinto=102\n",
      "https://www.janelaunicaportuaria.org.br/ws_homologacao/sepes/api/Pesagem?data_inicio=2019-04-01&data_fim=2019-04-01&cod_recinto=822\n",
      "https://www.janelaunicaportuaria.org.br/ws_homologacao/sepes/api/Pesagem?data_inicio=2019-04-01&data_fim=2019-04-01&cod_recinto=101\n",
      "https://www.janelaunicaportuaria.org.br/ws_homologacao/sepes/api/Pesagem?data_inicio=2019-04-01&data_fim=2019-04-01&cod_recinto=12\n",
      "https://www.janelaunicaportuaria.org.br/ws_homologacao/sepes/api/Pesagem?data_inicio=2019-04-01&data_fim=2019-04-01&cod_recinto=109\n",
      "https://www.janelaunicaportuaria.org.br/ws_homologacao/sepes/api/Pesagem?data_inicio=2019-04-01&data_fim=2019-04-01&cod_recinto=94\n",
      "https://www.janelaunicaportuaria.org.br/ws_homologacao/sepes/api/Pesagem?data_inicio=2019-04-01&data_fim=2019-04-01&cod_recinto=96\n",
      "96 376\n",
      "https://www.janelaunicaportuaria.org.br/ws_homologacao/sepes/api/Pesagem?data_inicio=2019-04-01&data_fim=2019-04-01&cod_recinto=844\n",
      "https://www.janelaunicaportuaria.org.br/ws_homologacao/sepes/api/Pesagem?data_inicio=2019-04-01&data_fim=2019-04-01&cod_recinto=837\n",
      "https://www.janelaunicaportuaria.org.br/ws_homologacao/sepes/api/Pesagem?data_inicio=2019-04-01&data_fim=2019-04-01&cod_recinto=973\n",
      "https://www.janelaunicaportuaria.org.br/ws_homologacao/sepes/api/Pesagem?data_inicio=2019-04-01&data_fim=2019-04-01&cod_recinto=104\n",
      "https://www.janelaunicaportuaria.org.br/ws_homologacao/sepes/api/Pesagem?data_inicio=2019-04-01&data_fim=2019-04-01&cod_recinto=110\n",
      "https://www.janelaunicaportuaria.org.br/ws_homologacao/sepes/api/Pesagem?data_inicio=2019-04-01&data_fim=2019-04-01&cod_recinto=97\n",
      "97 36\n",
      "https://www.janelaunicaportuaria.org.br/ws_homologacao/sepes/api/Pesagem?data_inicio=2019-04-01&data_fim=2019-04-01&cod_recinto=959\n",
      "https://www.janelaunicaportuaria.org.br/ws_homologacao/sepes/api/Pesagem?data_inicio=2019-04-01&data_fim=2019-04-01&cod_recinto=10\n",
      "10 204\n",
      "https://www.janelaunicaportuaria.org.br/ws_homologacao/sepes/api/Pesagem?data_inicio=2019-04-01&data_fim=2019-04-01&cod_recinto=11\n",
      "11 210\n",
      "https://www.janelaunicaportuaria.org.br/ws_homologacao/sepes/api/Pesagem?data_inicio=2019-04-01&data_fim=2019-04-01&cod_recinto=9\n",
      "https://www.janelaunicaportuaria.org.br/ws_homologacao/sepes/api/Pesagem?data_inicio=2019-04-01&data_fim=2019-04-01&cod_recinto=8\n",
      "https://www.janelaunicaportuaria.org.br/ws_homologacao/sepes/api/Pesagem?data_inicio=2019-04-01&data_fim=2019-04-01&cod_recinto=21\n",
      "21 136\n",
      "https://www.janelaunicaportuaria.org.br/ws_homologacao/sepes/api/Pesagem?data_inicio=2019-04-01&data_fim=2019-04-01&cod_recinto=843\n",
      "843 24\n",
      "https://www.janelaunicaportuaria.org.br/ws_homologacao/sepes/api/Pesagem?data_inicio=2019-04-01&data_fim=2019-04-01&cod_recinto=52\n",
      "52 74\n",
      "https://www.janelaunicaportuaria.org.br/ws_homologacao/sepes/api/Pesagem?data_inicio=2019-04-01&data_fim=2019-04-01&cod_recinto=106\n",
      "https://www.janelaunicaportuaria.org.br/ws_homologacao/sepes/api/Pesagem?data_inicio=2019-04-01&data_fim=2019-04-01&cod_recinto=107\n",
      "107 8\n",
      "https://www.janelaunicaportuaria.org.br/ws_homologacao/sepes/api/Pesagem?data_inicio=2019-04-01&data_fim=2019-04-01&cod_recinto=86\n",
      "https://www.janelaunicaportuaria.org.br/ws_homologacao/sepes/api/Pesagem?data_inicio=2019-04-01&data_fim=2019-04-01&cod_recinto=833\n",
      "https://www.janelaunicaportuaria.org.br/ws_homologacao/sepes/api/Pesagem?data_inicio=2019-04-01&data_fim=2019-04-01&cod_recinto=990\n",
      "https://www.janelaunicaportuaria.org.br/ws_homologacao/sepes/api/Pesagem?data_inicio=2019-04-01&data_fim=2019-04-01&cod_recinto=84\n",
      "84 760\n",
      "https://www.janelaunicaportuaria.org.br/ws_homologacao/sepes/api/Pesagem?data_inicio=2019-04-01&data_fim=2019-04-01&cod_recinto=85\n",
      "https://www.janelaunicaportuaria.org.br/ws_homologacao/sepes/api/Pesagem?data_inicio=2019-04-01&data_fim=2019-04-01&cod_recinto=823\n",
      "823 202\n",
      "https://www.janelaunicaportuaria.org.br/ws_homologacao/sepes/api/Pesagem?data_inicio=2019-04-01&data_fim=2019-04-01&cod_recinto=90\n",
      "90 193\n",
      "https://www.janelaunicaportuaria.org.br/ws_homologacao/sepes/api/Pesagem?data_inicio=2019-04-01&data_fim=2019-04-01&cod_recinto=75\n",
      "https://www.janelaunicaportuaria.org.br/ws_homologacao/sepes/api/Pesagem?data_inicio=2019-04-01&data_fim=2019-04-01&cod_recinto=76\n",
      "76 285\n",
      "https://www.janelaunicaportuaria.org.br/ws_homologacao/sepes/api/Pesagem?data_inicio=2019-04-01&data_fim=2019-04-01&cod_recinto=61\n",
      "61 75\n",
      "https://www.janelaunicaportuaria.org.br/ws_homologacao/sepes/api/Pesagem?data_inicio=2019-04-01&data_fim=2019-04-01&cod_recinto=930\n",
      "https://www.janelaunicaportuaria.org.br/ws_homologacao/sepes/api/Pesagem?data_inicio=2019-04-01&data_fim=2019-04-01&cod_recinto=30\n",
      "https://www.janelaunicaportuaria.org.br/ws_homologacao/sepes/api/Pesagem?data_inicio=2019-04-01&data_fim=2019-04-01&cod_recinto=69\n",
      "https://www.janelaunicaportuaria.org.br/ws_homologacao/sepes/api/Pesagem?data_inicio=2019-04-01&data_fim=2019-04-01&cod_recinto=940\n",
      "https://www.janelaunicaportuaria.org.br/ws_homologacao/sepes/api/Pesagem?data_inicio=2019-04-01&data_fim=2019-04-01&cod_recinto=935\n",
      "https://www.janelaunicaportuaria.org.br/ws_homologacao/sepes/api/Pesagem?data_inicio=2019-04-01&data_fim=2019-04-01&cod_recinto=40\n",
      "40 23\n",
      "https://www.janelaunicaportuaria.org.br/ws_homologacao/sepes/api/Pesagem?data_inicio=2019-04-01&data_fim=2019-04-01&cod_recinto=95\n",
      "95 50\n",
      "https://www.janelaunicaportuaria.org.br/ws_homologacao/sepes/api/Pesagem?data_inicio=2019-04-01&data_fim=2019-04-01&cod_recinto=98\n",
      "98 204\n",
      "https://www.janelaunicaportuaria.org.br/ws_homologacao/sepes/api/Pesagem?data_inicio=2019-04-01&data_fim=2019-04-01&cod_recinto=70\n",
      "70 335\n",
      "https://www.janelaunicaportuaria.org.br/ws_homologacao/sepes/api/Pesagem?data_inicio=2019-04-01&data_fim=2019-04-01&cod_recinto=997\n",
      "997 621\n",
      "https://www.janelaunicaportuaria.org.br/ws_homologacao/sepes/api/Pesagem?data_inicio=2019-04-01&data_fim=2019-04-01&cod_recinto=825\n",
      "https://www.janelaunicaportuaria.org.br/ws_homologacao/sepes/api/Pesagem?data_inicio=2019-04-01&data_fim=2019-04-01&cod_recinto=37\n",
      "37 154\n",
      "https://www.janelaunicaportuaria.org.br/ws_homologacao/sepes/api/Pesagem?data_inicio=2019-04-01&data_fim=2019-04-01&cod_recinto=987\n",
      "https://www.janelaunicaportuaria.org.br/ws_homologacao/sepes/api/Pesagem?data_inicio=2019-04-01&data_fim=2019-04-01&cod_recinto=50\n",
      "50 241\n",
      "https://www.janelaunicaportuaria.org.br/ws_homologacao/sepes/api/Pesagem?data_inicio=2019-04-01&data_fim=2019-04-01&cod_recinto=985\n",
      "https://www.janelaunicaportuaria.org.br/ws_homologacao/sepes/api/Pesagem?data_inicio=2019-04-01&data_fim=2019-04-01&cod_recinto=71\n",
      "71 2\n",
      "https://www.janelaunicaportuaria.org.br/ws_homologacao/sepes/api/Pesagem?data_inicio=2019-04-01&data_fim=2019-04-01&cod_recinto=835\n",
      "https://www.janelaunicaportuaria.org.br/ws_homologacao/sepes/api/Pesagem?data_inicio=2019-04-01&data_fim=2019-04-01&cod_recinto=998\n",
      "https://www.janelaunicaportuaria.org.br/ws_homologacao/sepes/api/Pesagem?data_inicio=2019-04-01&data_fim=2019-04-01&cod_recinto=80\n",
      "80 116\n"
     ]
    }
   ],
   "source": [
    "from collections import defaultdict\n",
    "token = get_token_dte()\n",
    "start = end = datetime.now() - timedelta(days=1)\n",
    "start = end = datetime.strptime('01/04/2019', '%d/%m/%Y')\n",
    "pesagens_recintos = defaultdict(list)\n",
    "for linha in recintos_list[1:]:\n",
    "    recinto = linha[0]\n",
    "    pesagens_recinto = get_pesagens_dte(start, end, recinto, token)\n",
    "    if pesagens_recinto and len(pesagens_recinto) > 0:\n",
    "        print(recinto, len(pesagens_recinto))\n",
    "        pesagens_recintos[recinto].extend(pesagens_recinto)"
   ]
  },
  {
   "cell_type": "code",
   "execution_count": 36,
   "metadata": {},
   "outputs": [
    {
     "name": "stdout",
     "output_type": "stream",
     "text": [
      "25\n",
      "22\n",
      "846\n",
      "96\n",
      "97\n",
      "10\n",
      "11\n",
      "21\n",
      "843\n",
      "52\n",
      "107\n",
      "84\n",
      "823\n",
      "90\n",
      "76\n",
      "61\n",
      "40\n",
      "95\n",
      "98\n",
      "70\n",
      "997\n",
      "37\n",
      "50\n",
      "71\n",
      "80\n"
     ]
    }
   ],
   "source": [
    "for recinto, pesagem_recinto in pesagens_recintos.items():\n",
    "    print(recinto)\n",
    "    for pesagem in pesagem_recinto:\n",
    "        if pesagem.get('CodigoConteinerEntrada') == 'TCLU1454367':\n",
    "            print(pesagem)\n",
    "        if pesagem.get('CodigoConteinerSaida') == 'TCLU1454367':\n",
    "            print(pesagem)"
   ]
  },
  {
   "cell_type": "code",
   "execution_count": 37,
   "metadata": {},
   "outputs": [],
   "source": [
    "import csv\n",
    "for recinto, pesagem_recinto in pesagens_recintos.items():\n",
    "    keys = pesagem_recinto[0].keys()\n",
    "    break\n",
    "with open('pesagem20190401.csv', 'w', newline='', encoding='utf-8') as csv_out:\n",
    "    writer = csv.DictWriter(csv_out, fieldnames=['CodRecinto', *keys])\n",
    "    writer.writeheader()\n",
    "    for recinto, pesagem_recinto in pesagens_recintos.items():\n",
    "        for pesagem in pesagem_recinto:\n",
    "            writer.writerow({'CodRecinto': recinto, **pesagem})\n"
   ]
  },
  {
   "cell_type": "code",
   "execution_count": 6,
   "metadata": {},
   "outputs": [
    {
     "name": "stdout",
     "output_type": "stream",
     "text": [
      "1004\n"
     ]
    }
   ],
   "source": [
    "def trata_pesagem_dte(registro):\n",
    "    new_dict = {}\n",
    "    for key, value in registro.items():\n",
    "        key = sanitizar(key, mongo_sanitizar)\n",
    "        value = sanitizar(value, mongo_sanitizar)\n",
    "        new_dict[key] = value\n",
    "    new_dict['datahoraentradaiso'] = datetime.strptime(new_dict['datahoraentrada'], '%Y-%m-%d %H:%M:%S')\n",
    "    datahorasaida = new_dict['datahorasaida']\n",
    "    if datahorasaida:\n",
    "        new_dict['datahorasaidaiso'] = datetime.strptime(new_dict['datahorasaida'], '%Y-%m-%d %H:%M:%S')\n",
    "    new_dict['pesoentradafloat'] = float(new_dict['pesoentrada'].replace(',', '.'))\n",
    "    new_dict['pesosaidafloat'] = float(new_dict['pesosaida'].replace(',', '.'))\n",
    "    new_dict['veiculocarregadosaidabool'] = new_dict['veiculocarregadosaida'] == \"sim\"\n",
    "    new_dict['veiculocarregadoentradabool'] = new_dict['veiculocarregadoentrada'] == \"sim\"\n",
    "    return(new_dict)\n",
    "\n",
    "i = 0\n",
    "for recinto, pesagens in pesagens_recintos.items():\n",
    "    for pesagem in pesagens:\n",
    "        if pesagem['CodigoConteinerEntrada'] or pesagem['CodigoConteinerSaida']:\n",
    "            pesagem_insert_mongo = {'codigo_recinto': recinto}\n",
    "            pesagem_insert_mongo.update(trata_pesagem_dte(pesagem))\n",
    "            # print(pesagem_insert_mongo)\n",
    "            #break\n",
    "            i += 1\n",
    "print(i)"
   ]
  },
  {
   "cell_type": "code",
   "execution_count": null,
   "metadata": {},
   "outputs": [],
   "source": []
  }
 ],
 "metadata": {
  "kernelspec": {
   "display_name": "Python 3",
   "language": "python",
   "name": "python3"
  },
  "language_info": {
   "codemirror_mode": {
    "name": "ipython",
    "version": 3
   },
   "file_extension": ".py",
   "mimetype": "text/x-python",
   "name": "python",
   "nbconvert_exporter": "python",
   "pygments_lexer": "ipython3",
   "version": "3.6.5"
  }
 },
 "nbformat": 4,
 "nbformat_minor": 2
}
