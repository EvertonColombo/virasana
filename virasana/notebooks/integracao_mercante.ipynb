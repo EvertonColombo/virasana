{
 "cells": [
  {
   "cell_type": "code",
   "execution_count": 1,
   "metadata": {},
   "outputs": [],
   "source": [
    "import json\n",
    "import requests\n",
    "import sys\n",
    "from datetime import datetime, time, timedelta\n",
    "sys.path.insert(0, '../../../commons/')\n",
    "sys.path.insert(0, '../../../virasana/')\n",
    "\n",
    "VIRASANA_URL = \"https://ajna.labin.rf08.srf/virasana/\""
   ]
  },
  {
   "cell_type": "code",
   "execution_count": 2,
   "metadata": {},
   "outputs": [
    {
     "name": "stdout",
     "output_type": "stream",
     "text": [
      "2019-11-10  00:00:00 2019-11-10 23:59:59\n"
     ]
    }
   ],
   "source": [
    "diaapesquisar = datetime.today() - timedelta(days=2)\n",
    "datainicial = datetime.strftime(datetime.combine(diaapesquisar, time.min), '%Y-%m-%d  %H:%M:%S')\n",
    "datafinal = datetime.strftime(datetime.combine(diaapesquisar, time.max), '%Y-%m-%d %H:%M:%S')\n",
    "print(datainicial, datafinal)"
   ]
  },
  {
   "cell_type": "code",
   "execution_count": 36,
   "metadata": {},
   "outputs": [
    {
     "name": "stdout",
     "output_type": "stream",
     "text": [
      "864\n"
     ]
    },
    {
     "name": "stderr",
     "output_type": "stream",
     "text": [
      "c:\\users\\25052288840\\pycharmprojects\\ajna_docs\\virasana\\venv\\lib\\site-packages\\urllib3\\connectionpool.py:851: InsecureRequestWarning: Unverified HTTPS request is being made. Adding certificate verification is strongly advised. See: https://urllib3.readthedocs.io/en/latest/advanced-usage.html#ssl-warnings\n",
      "  InsecureRequestWarning)\n"
     ]
    }
   ],
   "source": [
    "params = {'query': \n",
    "          { 'metadata.dataescaneamento': {'$gte': datainicial, '$lte': datafinal},\n",
    "            'metadata.contentType': 'image/jpeg',\n",
    "            'metadata.carga': {'$exists': False}\n",
    "          },\n",
    "          'projection': \n",
    "          {'metadata.numeroinformado': 1,\n",
    "           'metadata.dataescaneamento': 1}\n",
    "         }\n",
    "\n",
    "r = requests.post(VIRASANA_URL + \"grid_data\", json=params, verify=False)\n",
    "listacc = list(r.json())\n",
    "print(len(listacc))\n"
   ]
  },
  {
   "cell_type": "code",
   "execution_count": 37,
   "metadata": {},
   "outputs": [
    {
     "name": "stdout",
     "output_type": "stream",
     "text": [
      "848\n"
     ]
    }
   ],
   "source": [
    "listanumerocc = set([item['metadata']['numeroinformado'] for item in listacc])\n",
    "print(len(listanumerocc))"
   ]
  },
  {
   "cell_type": "code",
   "execution_count": 38,
   "metadata": {},
   "outputs": [
    {
     "name": "stdout",
     "output_type": "stream",
     "text": [
      "Requirement already satisfied: pymysql in c:\\users\\25052288840\\pycharmprojects\\ajna_docs\\virasana\\venv\\lib\\site-packages (0.9.3)\n"
     ]
    }
   ],
   "source": [
    "import pymysql\n",
    "\n",
    "# db = pymysql.connect(SQL_URI)\n",
    "\n",
    "\n"
   ]
  },
  {
   "cell_type": "code",
   "execution_count": 39,
   "metadata": {},
   "outputs": [],
   "source": [
    "SQL = 'SELECT * FROM conteinervazioresumo c ' + \\\n",
    "      'inner join manifestosresumo m on c.manifesto = m.numero ' + \\\n",
    "      'where tipoTrafego = \"5\" AND ' + \\\n",
    "      'c.idConteinerVazio IN (\"' + '\", \"'. join(listanumerocc) + '\")'\n"
   ]
  },
  {
   "cell_type": "code",
   "execution_count": 40,
   "metadata": {},
   "outputs": [],
   "source": [
    "connection = pymysql.connect(host='mysql.labin.rf08.srf',\n",
    "                             user='admmerc',\n",
    "                             password='XXX',\n",
    "                             db='dbmercante',\n",
    "                             charset='utf8mb4',\n",
    "                             cursorclass=pymysql.cursors.DictCursor)\n",
    "\n",
    "try:\n",
    "    with connection.cursor() as cursor:\n",
    "        cursor.execute(SQL)\n",
    "        result = cursor.fetchall()\n",
    "finally:\n",
    "    connection.close()"
   ]
  },
  {
   "cell_type": "code",
   "execution_count": 41,
   "metadata": {},
   "outputs": [
    {
     "name": "stdout",
     "output_type": "stream",
     "text": [
      "35\n"
     ]
    }
   ],
   "source": [
    "print(len(result))"
   ]
  },
  {
   "cell_type": "code",
   "execution_count": null,
   "metadata": {},
   "outputs": [],
   "source": []
  }
 ],
 "metadata": {
  "kernelspec": {
   "display_name": "Python 3",
   "language": "python",
   "name": "python3"
  },
  "language_info": {
   "codemirror_mode": {
    "name": "ipython",
    "version": 3
   },
   "file_extension": ".py",
   "mimetype": "text/x-python",
   "name": "python",
   "nbconvert_exporter": "python",
   "pygments_lexer": "ipython3",
   "version": "3.6.6"
  }
 },
 "nbformat": 4,
 "nbformat_minor": 2
}
