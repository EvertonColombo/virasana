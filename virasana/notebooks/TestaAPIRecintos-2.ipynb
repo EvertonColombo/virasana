{
 "cells": [
  {
   "cell_type": "code",
   "execution_count": 31,
   "metadata": {},
   "outputs": [],
   "source": [
    "import json\n",
    "import warnings\n",
    "warnings.simplefilter('ignore')\n",
    "from requests_pkcs12 import post\n",
    "\n",
    "headers={'Role-Type': 'DEPOSIT'}\n",
    "r = post('https://hom.pucomex.serpro.gov.br/portal/api/autenticar',\n",
    "         headers=headers,\n",
    "         pkcs12_filename='C:\\\\Users\\\\25052288840\\\\Downloads\\\\133375_GR_CONFECCOES_E_AUTOMACAO_INDUSTRIAL___LTDA.p12',\n",
    "         pkcs12_password='recint',\n",
    "         verify=False)\n"
   ]
  },
  {
   "cell_type": "code",
   "execution_count": 32,
   "metadata": {},
   "outputs": [
    {
     "name": "stdout",
     "output_type": "stream",
     "text": [
      "200\n",
      "{\"token\":\"EkUkqWWt/x0QPp0gAinMM0tUoIWQvw08Pg5mopA78LGnFGdntfxhP4jsHt372aYoKiAhpsZmzqc=\"}\n",
      "Date: Tue, 17 Nov 2020 11:28:02 GMT\n",
      "Server: Apache\n",
      "Set-Token: eyJhbGciOiJSUzI1NiJ9.eyJleHRlbnNhbyI6IiIsInN1YiI6IjA3Mzk2ODY1MDAwMTY4IiwidGlwbyI6IlBKIiwiaXAiOiIxODkuOS42NS4yMTkiLCJpc3MiOiJQUklWIiwiaWRjYyI6NDg3Nywibm9tZSI6IlJBUEhBRUwgT0xJVkVJUkEgQ0FCUkFMIiwiaXBPcmlnZW0iOiIxODkuOS42NS4yMTkiLCJkZXNjcmljYW8iOiJHUiBDT05GRUNDT0VTIEUgQVVUT01BQ0FPIElORFVTVFJJQUwgLSBMVERBIiwicGVyZmlzIjoiSDRzSUFBQUFBQUFBQUl1dUxpbEt6Q3RPVE01UExiYUtEbkwyQzNFTmNfVUw4WV9WeVV5eGNuRU44QV8yRE5GSlNTMU90bkpKTGNndnppdzV2TEFvTTc4MkZnQ20xcEZwT0FBQUFBPT0iLCJjcmVkZW5jaWFsIjo2LCJjcGYiOiIwNTU4Njg3ODczOSIsImlhdCI6MTYwNTYxMjQ3OSwiY29udHJvbGUiOjcsImhhc2giOiJkOWM5MDBjNDE4YTU0MjBlYTQ5NjI0MjkwZDkyMTE4OCJ9.uV_t23Xxf02dA20Hk2ihOShWxLDHb0yer3RxPtPr0rKdHRToy_ywRJDDplQiu7cZ7ad6Iv3g7e8hQbojguZUpvVP39LXoPaWByhbGbPZ-bzaTM_DmoggargBAyOqql8JjpzaDsdDOm6R9wvCi9B2S7tcDpe-oz8VNETRWthMuSqVi8O5n_UDUrE1VJ2p8ZYwkAxFcTymzmHxTAPXppkcGEu1MOjd886o5yF1rYoe9ZfCuV_vspZDpjgbUs0uo8KePJumKjV6Dkkqt34Pklg8CkiE9OuQWsbAqD3edWuDOHYriJ7ZjuLaDPA1eN6G0LI9Josm0_BK7fpGIIc_Sh5etw\n",
      "X-CSRF-Token: EkUkqWWt/x0QPp0gAinMM0tUoIWQvw08Pg5mopA78LGnFGdntfxhP4jsHt372aYoKiAhpsZmzqc=\n",
      "X-CSRF-Expiration: 1605616078553\n",
      "Content-Type: application/json\n",
      "Vary: Accept-Encoding,User-Agent\n",
      "Content-Encoding: gzip\n",
      "Content-Length: 108\n",
      "Keep-Alive: timeout=600\n",
      "Connection: Keep-Alive\n"
     ]
    }
   ],
   "source": [
    "print(r.status_code)\n",
    "print(r.text)\n",
    "for k, v in r.headers.items():\n",
    "    print('%s: %s' % (k, v))"
   ]
  },
  {
   "cell_type": "code",
   "execution_count": 33,
   "metadata": {},
   "outputs": [],
   "source": [
    "xcsrftoken = r.headers['X-CSRF-Token']\n",
    "authentication = r.headers['Set-Token']\n",
    "headers={'X-CSRF-Token': xcsrftoken,\n",
    "         'authorization': authentication}"
   ]
  },
  {
   "cell_type": "code",
   "execution_count": 34,
   "metadata": {},
   "outputs": [
    {
     "data": {
      "text/plain": [
       "{'X-CSRF-Token': 'EkUkqWWt/x0QPp0gAinMM0tUoIWQvw08Pg5mopA78LGnFGdntfxhP4jsHt372aYoKiAhpsZmzqc=',\n",
       " 'authorization': 'eyJhbGciOiJSUzI1NiJ9.eyJleHRlbnNhbyI6IiIsInN1YiI6IjA3Mzk2ODY1MDAwMTY4IiwidGlwbyI6IlBKIiwiaXAiOiIxODkuOS42NS4yMTkiLCJpc3MiOiJQUklWIiwiaWRjYyI6NDg3Nywibm9tZSI6IlJBUEhBRUwgT0xJVkVJUkEgQ0FCUkFMIiwiaXBPcmlnZW0iOiIxODkuOS42NS4yMTkiLCJkZXNjcmljYW8iOiJHUiBDT05GRUNDT0VTIEUgQVVUT01BQ0FPIElORFVTVFJJQUwgLSBMVERBIiwicGVyZmlzIjoiSDRzSUFBQUFBQUFBQUl1dUxpbEt6Q3RPVE01UExiYUtEbkwyQzNFTmNfVUw4WV9WeVV5eGNuRU44QV8yRE5GSlNTMU90bkpKTGNndnppdzV2TEFvTTc4MkZnQ20xcEZwT0FBQUFBPT0iLCJjcmVkZW5jaWFsIjo2LCJjcGYiOiIwNTU4Njg3ODczOSIsImlhdCI6MTYwNTYxMjQ3OSwiY29udHJvbGUiOjcsImhhc2giOiJkOWM5MDBjNDE4YTU0MjBlYTQ5NjI0MjkwZDkyMTE4OCJ9.uV_t23Xxf02dA20Hk2ihOShWxLDHb0yer3RxPtPr0rKdHRToy_ywRJDDplQiu7cZ7ad6Iv3g7e8hQbojguZUpvVP39LXoPaWByhbGbPZ-bzaTM_DmoggargBAyOqql8JjpzaDsdDOm6R9wvCi9B2S7tcDpe-oz8VNETRWthMuSqVi8O5n_UDUrE1VJ2p8ZYwkAxFcTymzmHxTAPXppkcGEu1MOjd886o5yF1rYoe9ZfCuV_vspZDpjgbUs0uo8KePJumKjV6Dkkqt34Pklg8CkiE9OuQWsbAqD3edWuDOHYriJ7ZjuLaDPA1eN6G0LI9Josm0_BK7fpGIIc_Sh5etw'}"
      ]
     },
     "execution_count": 34,
     "metadata": {},
     "output_type": "execute_result"
    }
   ],
   "source": [
    "headers"
   ]
  },
  {
   "cell_type": "code",
   "execution_count": 35,
   "metadata": {},
   "outputs": [],
   "source": [
    "payload = json.loads('{\\n  \"codigoRecinto\": \"7911101\",\\n  \"idEvento\": \"string\",\\n  \"dataHoraOcorrencia\": \"2020-11-16T17:01:42.701-0300\",\\n  \"dataHoraRegistro\": \"2020-11-16T17:01:42.701-0300\",\\n  \"cpfOperadorOcorrencia\": \"02297768923\",\\n  \"cpfOperadorRegistro\": \"02297768923\",\\n  \"tipoOperacao\": \"I\",\\n  \"protocoloEventoRetificadoOuExcluido\": \"string\",\\n  \"contingencia\": false,\\n  \"operacao\": \"C\",\\n  \"direcao\": \"E\",\\n  \"protocoloAgenda\": \"string\",\\n  \"dataHoraAgenda\": \"2020-11-16T17:01:42.701-0300\",\\n  \"listaManifestos\": [\\n    {\\n      \"idElemento\": \"string\",\\n      \"numero\": \"1234\",\\n      \"tipo\": \"MICDTA\",\\n      \"listaConhecimentos\": [\\n        {\\n          \"idElemento\": \"string\",\\n          \"numeroConhecimentoMAWB\": \"string\",\\n          \"numero\": \"string\",\\n          \"tipo\": \"AWB\"\\n        }\\n      ]\\n    }\\n  ],\\n  \"listaDeclaracaoAduaneira\": [\\n    {\\n      \"idElemento\": \"string\",\\n      \"numeroDeclaracao\": \"1\",\\n      \"tipo\": \"DUIMP\"\\n    }\\n  ],\\n  \"listaNfe\": [\\n    {\\n      \"idElemento\": \"string\",\\n      \"chaveNfe\": \"35200200000000002720550900024285641000000001\"\\n    }\\n  ],\\n  \"listaMalas\": [\\n    {\\n      \"idElemento\": \"string\",\\n      \"numeroMala\": \"mala1\"\\n    }\\n  ],\\n  \"tipoGranel\": \"01\",\\n  \"listaChassi\": [\\n    {\\n      \"idElemento\": \"string\",\\n      \"chassi\": \"chassi1\"\\n    }\\n  ],\\n  \"placa\": \"string\",\\n  \"ufEmplacamento\": \"RJ\",\\n  \"ocrPlaca\": true,\\n  \"oogDimensao\": false,\\n  \"oogPeso\": false,\\n  \"listaSemirreboque\": [\\n    {\\n      \"idElemento\": \"string\",\\n      \"placa\": \"string\",\\n      \"ocrPlaca\": true,\\n      \"vazio\": false,\\n      \"listaLacres\": [\\n        {\\n          \"idElemento\": \"string\",\\n          \"numero\": 0,\\n          \"tipo\": \"RFB\",\\n          \"localSif\": \"string\"\\n        }\\n      ],\\n      \"avaria\": false,\\n      \"portoDescarregamento\": \"BRCDA\",\\n      \"paisDestinoFinalCarga\": \"105\",\\n      \"navio\": {\\n        \"imo\": \"COOK\",\\n        \"nome\": \"string\"\\n      },\\n      \"cnpjCliente\": \"33683111000794\",\\n      \"nomeCliente\": \"string\",\\n      \"cnpjEstabelecimentoEstufagem\": \"33683111000794\",\\n      \"nomeEstabelecimentoEstufagem\": \"string\"\\n    }\\n  ],\\n  \"listaConteineresUld\": [\\n    {\\n      \"idElemento\": \"string\",\\n      \"numeroConteiner\": \"string\",\\n      \"tipo\": \"12G0\",\\n      \"identificacaoUld\": \"string\",\\n      \"ocrNumero\": false,\\n      \"vazio\": false,\\n      \"numeroBooking\": \"string\",\\n      \"listaLacres\": [\\n        {\\n          \"idElemento\": \"string\",\\n          \"numero\": 0,\\n          \"tipo\": \"RFB\",\\n          \"localSif\": \"string\"\\n        }\\n      ],\\n      \"avaria\": false,\\n      \"portoDescarregamento\": \"BRCDA\",\\n      \"paisDestinoFinalCarga\": \"105\",\\n      \"navio\": {\\n        \"imo\": \"COOK\",\\n        \"nome\": \"string\"\\n      },\\n      \"cnpjCliente\": \"33683111000794\",\\n      \"nomeCliente\": \"string\",\\n      \"cnpjEstabelecimentoEstufagem\": \"33683111000794\",\\n      \"nomeEstabelecimentoEstufagem\": \"string\"\\n    }\\n  ],\\n  \"cnpjTransportador\": \"33683111000794\",\\n  \"nomeTransportador\": \"string\",\\n  \"motorista\": {\\n    \"protocoloCredenciamento\": \"string\",\\n    \"cpf\": \"02297768923\",\\n    \"nome\": \"string\"\\n  },\\n  \"codigoRecintoDestino\": 0,\\n  \"codigoRecintoOrigem\": 0,\\n  \"dataHoraPartidaOrigem\": \"2020-11-16T17:01:42.701-0300\",\\n  \"modal\": \"R\",\\n  \"gate\": \"protocolo georref 05.21\",\\n  \"listaCameras\": [\\n    {\\n      \"idElemento\": \"string\",\\n      \"protocoloCamera\": \"protocolo georref 05.21\"\\n    }\\n  ]\\n}')"
   ]
  },
  {
   "cell_type": "code",
   "execution_count": 36,
   "metadata": {},
   "outputs": [],
   "source": [
    "r = post('https://hom-pucomex-rcnt-priv.estaleiro.serpro.gov.br/recintos-ext/api/ext/acesso-veiculos',\n",
    "         headers=headers,\n",
    "         # pkcs12_filename='C:\\\\Users\\\\25052288840\\\\Downloads\\\\133375_GR_CONFECCOES_E_AUTOMACAO_INDUSTRIAL___LTDA.p12',\n",
    "         # pkcs12_password='recint',\n",
    "         json=payload,\n",
    "         verify=False)\n"
   ]
  },
  {
   "cell_type": "code",
   "execution_count": 37,
   "metadata": {},
   "outputs": [
    {
     "name": "stdout",
     "output_type": "stream",
     "text": [
      "201\n",
      "{\"cabecalhoRequisicao\":{\"tipoOperacao\":\"I\",\"idEvento\":\"string\",\"dataHoraOcorrencia\":\"2020-11-16T17:01:42.701-0300\",\"dataHoraRegistro\":\"2020-11-16T17:01:42.701-0300\",\"cpfOperadorOcorrencia\":\"02297768923\",\"cpfOperadorRegistro\":\"02297768923\",\"protocoloEventoRetificadoOuExcluido\":\"string\",\"contingencia\":\"false\",\"codigoRecinto\":\"7911101\"},\"dataHoraTransmissao\":\"2020-11-17T08:28:32.228-03:00\",\"protocolo\":\"72ee1fa9-4365-454e-84df-cb44e325776d\"}\n",
      "x-csrf-expiration: 1605616113520\n",
      "access-control-allow-headers: Origin, X-Requested-With, Content-Type, Accept, X-CSRF-Token, Authorization\n",
      "date: Tue, 17 Nov 2020 11:28:33 GMT\n",
      "access-control-allow-origin: *\n",
      "x-csrf-token: FJon9GHYbGsg8KNQ7kXGiOOROsQCrISBnUz+sa862Z6YHWS5moU9V3RDEjtfU29yP3V4jOJiOUY=\n",
      "content-type: application/json\n",
      "set-token: eyJhbGciOiJSUzI1NiJ9.eyJleHRlbnNhbyI6IiIsInN1YiI6IjA3Mzk2ODY1MDAwMTY4IiwidGlwbyI6IlBKIiwiaXAiOiIxODkuOS42NS4yMTkiLCJpc3MiOiJQUklWIiwiaWRjYyI6NDg3Nywibm9tZSI6IlJBUEhBRUwgT0xJVkVJUkEgQ0FCUkFMIiwiaXBPcmlnZW0iOiIxODkuOS42NS4yMTkiLCJkZXNjcmljYW8iOiJHUiBDT05GRUNDT0VTIEUgQVVUT01BQ0FPIElORFVTVFJJQUwgLSBMVERBIiwicGVyZmlzIjoiSDRzSUFBQUFBQUFBQUl1dUxpbEt6Q3RPVE01UExiYUtEbkwyQzNFTmNfVUw4WV9WeVV5eGNuRU44QV8yRE5GSlNTMU90bkpKTGNndnppdzV2TEFvTTc4MkZnQ20xcEZwT0FBQUFBPT0iLCJjcmVkZW5jaWFsIjo2LCJjcGYiOiIwNTU4Njg3ODczOSIsImlhdCI6MTYwNTYxMjQ3OSwiY29udHJvbGUiOjcsImhhc2giOiJkOWM5MDBjNDE4YTU0MjBlYTQ5NjI0MjkwZDkyMTE4OCJ9.uV_t23Xxf02dA20Hk2ihOShWxLDHb0yer3RxPtPr0rKdHRToy_ywRJDDplQiu7cZ7ad6Iv3g7e8hQbojguZUpvVP39LXoPaWByhbGbPZ-bzaTM_DmoggargBAyOqql8JjpzaDsdDOm6R9wvCi9B2S7tcDpe-oz8VNETRWthMuSqVi8O5n_UDUrE1VJ2p8ZYwkAxFcTymzmHxTAPXppkcGEu1MOjd886o5yF1rYoe9ZfCuV_vspZDpjgbUs0uo8KePJumKjV6Dkkqt34Pklg8CkiE9OuQWsbAqD3edWuDOHYriJ7ZjuLaDPA1eN6G0LI9Josm0_BK7fpGIIc_Sh5etw\n",
      "content-length: 441\n",
      "access-control-allow-methods: GET, POST, PUT, DELETE, OPTIONS\n",
      "access-control-max-age: -1\n",
      "strict-transport-security: max-age=15768000\n"
     ]
    }
   ],
   "source": [
    "print(r.status_code)\n",
    "print(r.text)\n",
    "for k, v in r.headers.items():\n",
    "    print('%s: %s' % (k, v))"
   ]
  },
  {
   "cell_type": "code",
   "execution_count": null,
   "metadata": {},
   "outputs": [],
   "source": [
    "curl \"https://hom-pucomex-rcnt-priv.estaleiro.serpro.gov.br/recintos-consultas-intra/api/int/eventos-aduaneiros?idRegistro=^&tipoEvento=1^&tipoOperacao=I^&codigoRecinto=7911101^&cnpjTransmissor=^&dataHoraTransmissaoInicio=2020-09-18T08:38:37.949-0300^&dataHoraTransmissaoFim=2020-11-17T08:38:37.941-0300^&dataHoraOcorrenciaInicio=^&dataHoraOcorrenciaFim=^&dataHoraGravacaoInicio=^&dataHoraGravacaoFim=^&eventoRetificado=false^&eventoExcluido=false\" ^\n",
    "  -H \"authority: hom-pucomex-rcnt-priv.estaleiro.serpro.gov.br\" ^\n",
    "  -H \"user-extra: RECEITA\" ^\n",
    "  -H \"authorization: 3338B22239B8B7934612C24B0DD8854C\" ^\n",
    "  -H \"content-type: application/json\" ^\n",
    "  -H \"accept: */*\" ^\n",
    "  -H \"x-requested-with: XMLHttpRequest\" ^\n",
    "  -H \"system-code: 11655\" ^\n",
    "  -H \"encryption-key: MDEyMzQ1Njc4OWFiY2RlZkZFRENCQTk4NzY1NDMyMTA=\" ^\n",
    "  -H \"user-agent: Mozilla/5.0 (Windows NT 10.0; WOW64) AppleWebKit/537.36 (KHTML, like Gecko) Chrome/81.0.4044.129 Safari/537.36\" ^\n",
    "  -H \"cpf-solicitante: 00000000191\" ^\n",
    "  -H \"sec-fetch-site: same-origin\" ^\n",
    "  -H \"sec-fetch-mode: cors\" ^\n",
    "  -H \"sec-fetch-dest: empty\" ^\n",
    "  -H \"referer: https://hom-pucomex-rcnt-priv.estaleiro.serpro.gov.br/recintos-simulador/\" ^\n",
    "  -H \"accept-language: pt-BR,pt;q=0.9,en-US;q=0.8,en;q=0.7\" ^\n",
    "  --compressed"
   ]
  },
  {
   "cell_type": "code",
   "execution_count": null,
   "metadata": {},
   "outputs": [],
   "source": [
    "url = \"https://hom-pucomex-rcnt-priv.estaleiro.serpro.gov.br/recintos-consultas-intra/api/int/eventos-aduaneiros\" +\n",
    "\"?tipoEvento=1&tipoOperacao=I&codigoRecinto=7911101&dataHoraTransmissaoInicio=2020-09-18T08:38:37.949-0300&dataHoraTransmissaoFim=2020-11-17T08:38:37.941-0300\"\n"
   ]
  },
  {
   "cell_type": "code",
   "execution_count": null,
   "metadata": {},
   "outputs": [],
   "source": []
  },
  {
   "cell_type": "code",
   "execution_count": 28,
   "metadata": {},
   "outputs": [],
   "source": [
    "json_pesagem = {\n",
    "  \"idEvento\": \"string\",\n",
    "  \"dtHrOcorrencia\": \"2019-08-07T13:36:51.809Z\",\n",
    "  \"dtHrRegistro\": \"2019-08-07T13:36:51.809Z\",\n",
    "  \"cpfOperOcor\": \"02297768923\",\n",
    "  \"cpfOperReg\": \"02297768923\",\n",
    "  \"tipoOperacao\": \"I\",\n",
    "  \"protocoloEventoRetifCanc\": \"string\",\n",
    "  \"contingencia\": False,\n",
    "  \"listaManifestos\": [\n",
    "    {\n",
    "      \"num\": \"string\",\n",
    "      \"tipo\": \"DAT\",\n",
    "      \"listaConhecimentos\": [\n",
    "        {\n",
    "          \"num\": \"string\",\n",
    "          \"tipo\": \"CRT\"\n",
    "        }\n",
    "      ]\n",
    "    }\n",
    "  ],\n",
    "  \"pesoBrutoManifesto\": 0,\n",
    "  \"placa\": \"string\",\n",
    "  \"tara\": 0,\n",
    "  \"listaSemirreboque\": [\n",
    "    {\n",
    "      \"placa\": \"string\",\n",
    "      \"tara\": 0\n",
    "    }\n",
    "  ],\n",
    "  \"taraConjunto\": 0,\n",
    "  \"numConteinerUld\": \"string\",\n",
    "  \"tipoConteinerUld\": \"string\",\n",
    "  \"taraConteinerUld\": 0,\n",
    "  \"pesoBrutoBalanca\": 0,\n",
    "  \"capturaAutoPeso\": True,\n",
    "  \"dutos\": \"E\",\n",
    "  \"volume\": 0,\n",
    "  \"balanca\": \"protocolo georref 05.21\",\n",
    "  \"listaCameras\": [\n",
    "    \"protocolo georref 05.21\",\n",
    "    \"protocolo georref 05.21\"\n",
    "  ]\n",
    "}"
   ]
  },
  {
   "cell_type": "code",
   "execution_count": 34,
   "metadata": {},
   "outputs": [
    {
     "name": "stdout",
     "output_type": "stream",
     "text": [
      "{\"cabecalhoResposta\":{\"dtHrTransmissao\":\"2020-01-28T09:11:41.325Z\",\"protocolo\":\"03402a7b-1f54-4381-877b-5d745863cd9d\"},\"cabecalhoRequisicao\":{\"tipoOperacao\":\"I\",\"idEvento\":\"string\",\"dtHrOcorrencia\":\"2019-08-07T13:36:51.809Z\",\"dtHrRegistro\":\"2019-08-07T13:36:51.809Z\",\"cpfOperOcor\":\"02297768923\",\"cpfOperReg\":\"02297768923\",\"protocoloEventoRetifCanc\":\"string\",\"contingencia\":\"false\"}}\n"
     ]
    }
   ],
   "source": [
    "headers={'Role-Type': 'DEPOSIT',\n",
    "         'X-CSRF-Token': xcsrftoken,\n",
    "         'authorization': authentication,\n",
    "         'Cnpj-Representante': '92772821010712',\n",
    "         'Content-Type': 'application/json'}\n",
    "\n",
    "r = post('https://tes-pucomex-rcnt-priv.estaleiro.serpro/recintos-ext/api/ext/pesagem-veiculos-cargas',\n",
    "         headers=headers,\n",
    "         pkcs12_filename='C:\\\\Users\\\\25052288840\\\\Downloads\\\\132656_CERTIFICADO_TESTES_INTEGRADOS.p12',\n",
    "         pkcs12_password='123456',\n",
    "         verify=False,\n",
    "         json=json_pesagem)\n",
    "print(r.text)"
   ]
  },
  {
   "cell_type": "code",
   "execution_count": 33,
   "metadata": {},
   "outputs": [
    {
     "name": "stdout",
     "output_type": "stream",
     "text": [
      "b'{\"cabecalhoResposta\":{\"dtHrTransmissao\":\"2020-01-28T09:10:19.328Z\",\"protocolo\":\"2510e310-9ad3-4059-934d-5e1a1bbc7996\"},\"cabecalhoRequisicao\":{\"tipoOperacao\":\"I\",\"idEvento\":\"string\",\"dtHrOcorrencia\":\"2019-08-07T13:36:51.809Z\",\"dtHrRegistro\":\"2019-08-07T13:36:51.809Z\",\"cpfOperOcor\":\"02297768923\",\"cpfOperReg\":\"02297768923\",\"protocoloEventoRetifCanc\":\"string\",\"contingencia\":\"false\"}}'\n",
      "{'x-csrf-expiration': '1580217020048', 'access-control-allow-headers': 'Origin, X-Requested-With, Content-Type, Accept, X-CSRF-Token, Authorization', 'date': 'Tue, 28 Jan 2020 12:10:20 GMT', 'access-control-allow-origin': '*', 'x-csrf-token': 'pR8kXMOr5QOHaTUKaHDxoAANRcY4xsrdssk++8vOr1XXIrrhZkqVChpn6WJZBxyphuvez6MecFM=', 'content-type': 'application/json', 'set-token': 'eyJhbGciOiJSUzI1NiJ9.eyJleHRlbnNhbyI6IiIsInN1YiI6IjA3MDczMzExNzAzIiwidGlwbyI6IlBGIiwiaXAiOiIxMC41OC4xMjEuMTk3IiwiaXNzIjoiUFJJViIsImlkY2MiOjQ4Miwibm9tZSI6IkNFUlRJRklDQURPIFRFU1RFUyBJTlRFR1JBRE9TIiwiaXBPcmlnZW0iOiIxMC41OC4xMjEuMTk3IiwiZGVzY3JpY2FvIjoiQ0VSVElGSUNBRE8gVEVTVEVTIElOVEVHUkFET1MiLCJwZXJmaXMiOiJINHNJQUFBQUFBQUFBRldQd1FyQ01BeUdYNmhQc0Z0b2d4UmNOdEpNaG1PSHNlMndpeE8zbV9nd1Bvc3ZacXl0NEtIMDQwX3lfMGwzMzJfRFpSdkdkZDZLemxwaHhnT1NHRVU0LW1DQlA4aTJvdURFc0NYQms5WXJWVUVjU201Z0thMm5pRUFDMW4zSGdCaHRkc2pZa0JkX05rRFl4dmVMS0lHTWE3QlYxQy1xZFJXU0dTU0gxTUFZOGxqZTl6OE4yNml5Vm4xWlIzUVlOTnVrTTFPdm51azhZMi1XcVhDb2VWN01ORzlqNGVicnVpMzc2M2xiMWtmX0JwQXJJU3NxQVFBQSIsImNyZWRlbmNpYWwiOjYsImNwZiI6IjA3MDczMzExNzAzIiwiaWF0IjoxNTgwMjEzMjMzLCJjb250cm9sZSI6NywiaGFzaCI6IjBmM2M3YmU1N2JkOTNmZjIyMWVjYmNjNmU1ODk2NmRjIn0.MdlfdPsDmqMqcYNemJ4I0wCfpIKHJBEvNTUP-C0wYSGc8fWTdHTRYGMwEIgA0JvLj2BVpz7MhetNI1AuoilDJ38058xI09xP6zF3_fX5wgttwDzkm5UdlDqVeIjaB5W7f71wSdvSEWsr6upqB1HSGBu7qx3OujXK0xb4kGZHlfH0OuF2LXDuLW5O8IpjzwO3WyrBx8q1iNq8xSH967jXdERjGGWQrDFrxVgxlqQh8TvictEyH6IuQ0O4BfThic_0qA8QSYvcBtMUFf7ix20GlEcpnJ9BkRpLXuu91Ko18y6Z8QqE0wFa4J3PSKo4fTx1wZUtvxbwOimqa4lurlha3w', 'content-length': '382', 'access-control-allow-methods': 'GET, POST, PUT, DELETE, OPTIONS', 'access-control-max-age': '-1', 'strict-transport-security': 'max-age=15768000'}\n"
     ]
    }
   ],
   "source": [
    "print(r.content)\n",
    "print(r.headers)"
   ]
  },
  {
   "cell_type": "code",
   "execution_count": 31,
   "metadata": {},
   "outputs": [
    {
     "data": {
      "text/plain": [
       "'{\"idEvento\": \"string\", \"dtHrOcorrencia\": \"2019-08-07T13:36:51.809Z\", \"dtHrRegistro\": \"2019-08-07T13:36:51.809Z\", \"cpfOperOcor\": \"02297768923\", \"cpfOperReg\": \"02297768923\", \"tipoOperacao\": \"I\", \"protocoloEventoRetifCanc\": \"string\", \"contingencia\": false, \"listaManifestos\": [{\"num\": \"string\", \"tipo\": \"DAT\", \"listaConhecimentos\": [{\"num\": \"string\", \"tipo\": \"CRT\"}]}], \"pesoBrutoManifesto\": 0, \"placa\": \"string\", \"tara\": 0, \"listaSemirreboque\": [{\"placa\": \"string\", \"tara\": 0}], \"taraConjunto\": 0, \"numConteinerUld\": \"string\", \"tipoConteinerUld\": \"string\", \"taraConteinerUld\": 0, \"pesoBrutoBalanca\": 0, \"capturaAutoPeso\": true, \"dutos\": \"E\", \"volume\": 0, \"balanca\": \"protocolo georref 05.21\", \"listaCameras\": [\"protocolo georref 05.21\", \"protocolo georref 05.21\"]}'"
      ]
     },
     "execution_count": 31,
     "metadata": {},
     "output_type": "execute_result"
    }
   ],
   "source": [
    "import json\n",
    "json.dumps(json_pesagem)"
   ]
  },
  {
   "cell_type": "code",
   "execution_count": null,
   "metadata": {},
   "outputs": [],
   "source": []
  }
 ],
 "metadata": {
  "kernelspec": {
   "display_name": "Python 3",
   "language": "python",
   "name": "python3"
  },
  "language_info": {
   "codemirror_mode": {
    "name": "ipython",
    "version": 3
   },
   "file_extension": ".py",
   "mimetype": "text/x-python",
   "name": "python",
   "nbconvert_exporter": "python",
   "pygments_lexer": "ipython3",
   "version": "3.7.4"
  }
 },
 "nbformat": 4,
 "nbformat_minor": 4
}
