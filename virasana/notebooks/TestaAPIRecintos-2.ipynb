{
 "cells": [
  {
   "cell_type": "code",
   "execution_count": 23,
   "metadata": {},
   "outputs": [],
   "source": [
    "import warnings\n",
    "warnings.simplefilter('ignore')\n",
    "from requests_pkcs12 import post\n",
    "\n",
    "headers={'Role-Type': 'DEPOSIT'}\n",
    "r = post('https://tes.pucomex.serpro/portal/api/autenticar',\n",
    "         headers=headers,\n",
    "         pkcs12_filename='C:\\\\Users\\\\25052288840\\\\Downloads\\\\132656_CERTIFICADO_TESTES_INTEGRADOS.p12',\n",
    "         pkcs12_password='123456',\n",
    "         verify=False)\n"
   ]
  },
  {
   "cell_type": "code",
   "execution_count": 24,
   "metadata": {},
   "outputs": [
    {
     "name": "stdout",
     "output_type": "stream",
     "text": [
      "200\n",
      "{\"token\":\"OmsznNTFd5NOI46F366bk0nSFldQlwTaRpAvlw6Xczn4MHf+lRDuqWH9mzYt4eDp99eGW6xXz5Y=\"}\n",
      "Date: Tue, 28 Jan 2020 12:07:12 GMT\n",
      "Server: Apache/2.4.6 (CentOS) OpenSSL/1.0.2k-fips\n",
      "Set-Token: eyJhbGciOiJSUzI1NiJ9.eyJleHRlbnNhbyI6IiIsInN1YiI6IjA3MDczMzExNzAzIiwidGlwbyI6IlBGIiwiaXAiOiIxMC41OC4xMjEuMTk3IiwiaXNzIjoiUFJJViIsImlkY2MiOjQ4Miwibm9tZSI6IkNFUlRJRklDQURPIFRFU1RFUyBJTlRFR1JBRE9TIiwiaXBPcmlnZW0iOiIxMC41OC4xMjEuMTk3IiwiZGVzY3JpY2FvIjoiQ0VSVElGSUNBRE8gVEVTVEVTIElOVEVHUkFET1MiLCJwZXJmaXMiOiJINHNJQUFBQUFBQUFBRldQd1FyQ01BeUdYNmhQc0Z0b2d4UmNOdEpNaG1PSHNlMndpeE8zbV9nd1Bvc3ZacXl0NEtIMDQwX3lfMGwzMzJfRFpSdkdkZDZLemxwaHhnT1NHRVU0LW1DQlA4aTJvdURFc0NYQms5WXJWVUVjU201Z0thMm5pRUFDMW4zSGdCaHRkc2pZa0JkX05rRFl4dmVMS0lHTWE3QlYxQy1xZFJXU0dTU0gxTUFZOGxqZTl6OE4yNml5Vm4xWlIzUVlOTnVrTTFPdm51azhZMi1XcVhDb2VWN01ORzlqNGVicnVpMzc2M2xiMWtmX0JwQXJJU3NxQVFBQSIsImNyZWRlbmNpYWwiOjYsImNwZiI6IjA3MDczMzExNzAzIiwiaWF0IjoxNTgwMjEzMjMzLCJjb250cm9sZSI6NywiaGFzaCI6IjBmM2M3YmU1N2JkOTNmZjIyMWVjYmNjNmU1ODk2NmRjIn0.MdlfdPsDmqMqcYNemJ4I0wCfpIKHJBEvNTUP-C0wYSGc8fWTdHTRYGMwEIgA0JvLj2BVpz7MhetNI1AuoilDJ38058xI09xP6zF3_fX5wgttwDzkm5UdlDqVeIjaB5W7f71wSdvSEWsr6upqB1HSGBu7qx3OujXK0xb4kGZHlfH0OuF2LXDuLW5O8IpjzwO3WyrBx8q1iNq8xSH967jXdERjGGWQrDFrxVgxlqQh8TvictEyH6IuQ0O4BfThic_0qA8QSYvcBtMUFf7ix20GlEcpnJ9BkRpLXuu91Ko18y6Z8QqE0wFa4J3PSKo4fTx1wZUtvxbwOimqa4lurlha3w\n",
      "X-CSRF-Token: OmsznNTFd5NOI46F366bk0nSFldQlwTaRpAvlw6Xczn4MHf+lRDuqWH9mzYt4eDp99eGW6xXz5Y=\n",
      "X-CSRF-Expiration: 1580216833493\n",
      "Content-Type: application/json\n",
      "Content-Length: 88\n",
      "Keep-Alive: timeout=5, max=100\n",
      "Connection: Keep-Alive\n"
     ]
    }
   ],
   "source": [
    "print(r.status_code)\n",
    "print(r.text)\n",
    "for k, v in r.headers.items():\n",
    "    print('%s: %s' % (k, v))"
   ]
  },
  {
   "cell_type": "code",
   "execution_count": 25,
   "metadata": {},
   "outputs": [],
   "source": [
    "xcsrftoken = r.headers['X-CSRF-Token']\n",
    "authentication = r.headers['Set-Token']"
   ]
  },
  {
   "cell_type": "code",
   "execution_count": 26,
   "metadata": {},
   "outputs": [],
   "source": [
    "headers={'Role-Type': 'DEPOSIT',\n",
    "         'X-CSRF-Token': xcsrftoken,\n",
    "         'authorization': authentication,\n",
    "         'Cnpj-Representante': '92772821010712',\n",
    "         'Content-Type': 'application/json'}\n",
    "\n",
    "r = post('https://tes-pucomex-rcnt-priv.estaleiro.serpro/recintos-ext/api/ext/pesagem-veiculos-cargas',\n",
    "         headers=headers,\n",
    "         pkcs12_filename='C:\\\\Users\\\\25052288840\\\\Downloads\\\\132656_CERTIFICADO_TESTES_INTEGRADOS.p12',\n",
    "         pkcs12_password='123456',\n",
    "         verify=False)\n"
   ]
  },
  {
   "cell_type": "code",
   "execution_count": 27,
   "metadata": {},
   "outputs": [
    {
     "name": "stdout",
     "output_type": "stream",
     "text": [
      "500\n",
      "{\"message\":\"Ocorreu um erro inesperado. Por favor, tente novamente. Se o problema persistir, acione a Central Serpro de Atendimento anexando todo o conteúdo do response.\",\"code\":\"PUCX-ER0001\",\"field\":null,\"path\":null,\"tag\":\"[RCNT-HDFBFZ5JW6]\",\"date\":\"2020-01-28T09:07:16\",\"status\":500,\"detail\":null,\"severity\":\"ERROR\",\"info\":{\"mnemonico\":\"RCNT\",\"sistema\":\"Recintos de Comércio Exterior\",\"ambiente\":\"TES\",\"visao\":\"PRIV\",\"usuario\":\"07073311703\",\"url\":\"/recintos-ext/api/ext/pesagem-veiculos-cargas\",\"fluxo\":null}}\n",
      "x-csrf-expiration: 1580216836672\n",
      "access-control-allow-headers: Origin, X-Requested-With, Content-Type, Accept, X-CSRF-Token, Authorization\n",
      "date: Tue, 28 Jan 2020 12:07:16 GMT\n",
      "access-control-allow-origin: *\n",
      "x-csrf-token: OmsznNTFd5Pn0BV7+EJezM+kKvhnOzZPr0HJ6r9OPV0NRg8L8L8YTs0/wRFqLzlqk/1ZQtkEHZs=\n",
      "content-type: application/json;charset=UTF-8\n",
      "set-token: eyJhbGciOiJSUzI1NiJ9.eyJleHRlbnNhbyI6IiIsInN1YiI6IjA3MDczMzExNzAzIiwidGlwbyI6IlBGIiwiaXAiOiIxMC41OC4xMjEuMTk3IiwiaXNzIjoiUFJJViIsImlkY2MiOjQ4Miwibm9tZSI6IkNFUlRJRklDQURPIFRFU1RFUyBJTlRFR1JBRE9TIiwiaXBPcmlnZW0iOiIxMC41OC4xMjEuMTk3IiwiZGVzY3JpY2FvIjoiQ0VSVElGSUNBRE8gVEVTVEVTIElOVEVHUkFET1MiLCJwZXJmaXMiOiJINHNJQUFBQUFBQUFBRldQd1FyQ01BeUdYNmhQc0Z0b2d4UmNOdEpNaG1PSHNlMndpeE8zbV9nd1Bvc3ZacXl0NEtIMDQwX3lfMGwzMzJfRFpSdkdkZDZLemxwaHhnT1NHRVU0LW1DQlA4aTJvdURFc0NYQms5WXJWVUVjU201Z0thMm5pRUFDMW4zSGdCaHRkc2pZa0JkX05rRFl4dmVMS0lHTWE3QlYxQy1xZFJXU0dTU0gxTUFZOGxqZTl6OE4yNml5Vm4xWlIzUVlOTnVrTTFPdm51azhZMi1XcVhDb2VWN01ORzlqNGVicnVpMzc2M2xiMWtmX0JwQXJJU3NxQVFBQSIsImNyZWRlbmNpYWwiOjYsImNwZiI6IjA3MDczMzExNzAzIiwiaWF0IjoxNTgwMjEzMjMzLCJjb250cm9sZSI6NywiaGFzaCI6IjBmM2M3YmU1N2JkOTNmZjIyMWVjYmNjNmU1ODk2NmRjIn0.MdlfdPsDmqMqcYNemJ4I0wCfpIKHJBEvNTUP-C0wYSGc8fWTdHTRYGMwEIgA0JvLj2BVpz7MhetNI1AuoilDJ38058xI09xP6zF3_fX5wgttwDzkm5UdlDqVeIjaB5W7f71wSdvSEWsr6upqB1HSGBu7qx3OujXK0xb4kGZHlfH0OuF2LXDuLW5O8IpjzwO3WyrBx8q1iNq8xSH967jXdERjGGWQrDFrxVgxlqQh8TvictEyH6IuQ0O4BfThic_0qA8QSYvcBtMUFf7ix20GlEcpnJ9BkRpLXuu91Ko18y6Z8QqE0wFa4J3PSKo4fTx1wZUtvxbwOimqa4lurlha3w\n",
      "content-length: 513\n",
      "access-control-allow-methods: GET, POST, PUT, DELETE, OPTIONS\n",
      "access-control-max-age: -1\n",
      "strict-transport-security: max-age=15768000\n"
     ]
    }
   ],
   "source": [
    "print(r.status_code)\n",
    "print(r.text)\n",
    "for k, v in r.headers.items():\n",
    "    print('%s: %s' % (k, v))"
   ]
  },
  {
   "cell_type": "code",
   "execution_count": 28,
   "metadata": {},
   "outputs": [],
   "source": [
    "json_pesagem = {\n",
    "  \"idEvento\": \"string\",\n",
    "  \"dtHrOcorrencia\": \"2019-08-07T13:36:51.809Z\",\n",
    "  \"dtHrRegistro\": \"2019-08-07T13:36:51.809Z\",\n",
    "  \"cpfOperOcor\": \"02297768923\",\n",
    "  \"cpfOperReg\": \"02297768923\",\n",
    "  \"tipoOperacao\": \"I\",\n",
    "  \"protocoloEventoRetifCanc\": \"string\",\n",
    "  \"contingencia\": False,\n",
    "  \"listaManifestos\": [\n",
    "    {\n",
    "      \"num\": \"string\",\n",
    "      \"tipo\": \"DAT\",\n",
    "      \"listaConhecimentos\": [\n",
    "        {\n",
    "          \"num\": \"string\",\n",
    "          \"tipo\": \"CRT\"\n",
    "        }\n",
    "      ]\n",
    "    }\n",
    "  ],\n",
    "  \"pesoBrutoManifesto\": 0,\n",
    "  \"placa\": \"string\",\n",
    "  \"tara\": 0,\n",
    "  \"listaSemirreboque\": [\n",
    "    {\n",
    "      \"placa\": \"string\",\n",
    "      \"tara\": 0\n",
    "    }\n",
    "  ],\n",
    "  \"taraConjunto\": 0,\n",
    "  \"numConteinerUld\": \"string\",\n",
    "  \"tipoConteinerUld\": \"string\",\n",
    "  \"taraConteinerUld\": 0,\n",
    "  \"pesoBrutoBalanca\": 0,\n",
    "  \"capturaAutoPeso\": True,\n",
    "  \"dutos\": \"E\",\n",
    "  \"volume\": 0,\n",
    "  \"balanca\": \"protocolo georref 05.21\",\n",
    "  \"listaCameras\": [\n",
    "    \"protocolo georref 05.21\",\n",
    "    \"protocolo georref 05.21\"\n",
    "  ]\n",
    "}"
   ]
  },
  {
   "cell_type": "code",
   "execution_count": 34,
   "metadata": {},
   "outputs": [
    {
     "name": "stdout",
     "output_type": "stream",
     "text": [
      "{\"cabecalhoResposta\":{\"dtHrTransmissao\":\"2020-01-28T09:11:41.325Z\",\"protocolo\":\"03402a7b-1f54-4381-877b-5d745863cd9d\"},\"cabecalhoRequisicao\":{\"tipoOperacao\":\"I\",\"idEvento\":\"string\",\"dtHrOcorrencia\":\"2019-08-07T13:36:51.809Z\",\"dtHrRegistro\":\"2019-08-07T13:36:51.809Z\",\"cpfOperOcor\":\"02297768923\",\"cpfOperReg\":\"02297768923\",\"protocoloEventoRetifCanc\":\"string\",\"contingencia\":\"false\"}}\n"
     ]
    }
   ],
   "source": [
    "headers={'Role-Type': 'DEPOSIT',\n",
    "         'X-CSRF-Token': xcsrftoken,\n",
    "         'authorization': authentication,\n",
    "         'Cnpj-Representante': '92772821010712',\n",
    "         'Content-Type': 'application/json'}\n",
    "\n",
    "r = post('https://tes-pucomex-rcnt-priv.estaleiro.serpro/recintos-ext/api/ext/pesagem-veiculos-cargas',\n",
    "         headers=headers,\n",
    "         pkcs12_filename='C:\\\\Users\\\\25052288840\\\\Downloads\\\\132656_CERTIFICADO_TESTES_INTEGRADOS.p12',\n",
    "         pkcs12_password='123456',\n",
    "         verify=False,\n",
    "         json=json_pesagem)\n",
    "print(r.text)"
   ]
  },
  {
   "cell_type": "code",
   "execution_count": 33,
   "metadata": {},
   "outputs": [
    {
     "name": "stdout",
     "output_type": "stream",
     "text": [
      "b'{\"cabecalhoResposta\":{\"dtHrTransmissao\":\"2020-01-28T09:10:19.328Z\",\"protocolo\":\"2510e310-9ad3-4059-934d-5e1a1bbc7996\"},\"cabecalhoRequisicao\":{\"tipoOperacao\":\"I\",\"idEvento\":\"string\",\"dtHrOcorrencia\":\"2019-08-07T13:36:51.809Z\",\"dtHrRegistro\":\"2019-08-07T13:36:51.809Z\",\"cpfOperOcor\":\"02297768923\",\"cpfOperReg\":\"02297768923\",\"protocoloEventoRetifCanc\":\"string\",\"contingencia\":\"false\"}}'\n",
      "{'x-csrf-expiration': '1580217020048', 'access-control-allow-headers': 'Origin, X-Requested-With, Content-Type, Accept, X-CSRF-Token, Authorization', 'date': 'Tue, 28 Jan 2020 12:10:20 GMT', 'access-control-allow-origin': '*', 'x-csrf-token': 'pR8kXMOr5QOHaTUKaHDxoAANRcY4xsrdssk++8vOr1XXIrrhZkqVChpn6WJZBxyphuvez6MecFM=', 'content-type': 'application/json', 'set-token': 'eyJhbGciOiJSUzI1NiJ9.eyJleHRlbnNhbyI6IiIsInN1YiI6IjA3MDczMzExNzAzIiwidGlwbyI6IlBGIiwiaXAiOiIxMC41OC4xMjEuMTk3IiwiaXNzIjoiUFJJViIsImlkY2MiOjQ4Miwibm9tZSI6IkNFUlRJRklDQURPIFRFU1RFUyBJTlRFR1JBRE9TIiwiaXBPcmlnZW0iOiIxMC41OC4xMjEuMTk3IiwiZGVzY3JpY2FvIjoiQ0VSVElGSUNBRE8gVEVTVEVTIElOVEVHUkFET1MiLCJwZXJmaXMiOiJINHNJQUFBQUFBQUFBRldQd1FyQ01BeUdYNmhQc0Z0b2d4UmNOdEpNaG1PSHNlMndpeE8zbV9nd1Bvc3ZacXl0NEtIMDQwX3lfMGwzMzJfRFpSdkdkZDZLemxwaHhnT1NHRVU0LW1DQlA4aTJvdURFc0NYQms5WXJWVUVjU201Z0thMm5pRUFDMW4zSGdCaHRkc2pZa0JkX05rRFl4dmVMS0lHTWE3QlYxQy1xZFJXU0dTU0gxTUFZOGxqZTl6OE4yNml5Vm4xWlIzUVlOTnVrTTFPdm51azhZMi1XcVhDb2VWN01ORzlqNGVicnVpMzc2M2xiMWtmX0JwQXJJU3NxQVFBQSIsImNyZWRlbmNpYWwiOjYsImNwZiI6IjA3MDczMzExNzAzIiwiaWF0IjoxNTgwMjEzMjMzLCJjb250cm9sZSI6NywiaGFzaCI6IjBmM2M3YmU1N2JkOTNmZjIyMWVjYmNjNmU1ODk2NmRjIn0.MdlfdPsDmqMqcYNemJ4I0wCfpIKHJBEvNTUP-C0wYSGc8fWTdHTRYGMwEIgA0JvLj2BVpz7MhetNI1AuoilDJ38058xI09xP6zF3_fX5wgttwDzkm5UdlDqVeIjaB5W7f71wSdvSEWsr6upqB1HSGBu7qx3OujXK0xb4kGZHlfH0OuF2LXDuLW5O8IpjzwO3WyrBx8q1iNq8xSH967jXdERjGGWQrDFrxVgxlqQh8TvictEyH6IuQ0O4BfThic_0qA8QSYvcBtMUFf7ix20GlEcpnJ9BkRpLXuu91Ko18y6Z8QqE0wFa4J3PSKo4fTx1wZUtvxbwOimqa4lurlha3w', 'content-length': '382', 'access-control-allow-methods': 'GET, POST, PUT, DELETE, OPTIONS', 'access-control-max-age': '-1', 'strict-transport-security': 'max-age=15768000'}\n"
     ]
    }
   ],
   "source": [
    "print(r.content)\n",
    "print(r.headers)"
   ]
  },
  {
   "cell_type": "code",
   "execution_count": 31,
   "metadata": {},
   "outputs": [
    {
     "data": {
      "text/plain": [
       "'{\"idEvento\": \"string\", \"dtHrOcorrencia\": \"2019-08-07T13:36:51.809Z\", \"dtHrRegistro\": \"2019-08-07T13:36:51.809Z\", \"cpfOperOcor\": \"02297768923\", \"cpfOperReg\": \"02297768923\", \"tipoOperacao\": \"I\", \"protocoloEventoRetifCanc\": \"string\", \"contingencia\": false, \"listaManifestos\": [{\"num\": \"string\", \"tipo\": \"DAT\", \"listaConhecimentos\": [{\"num\": \"string\", \"tipo\": \"CRT\"}]}], \"pesoBrutoManifesto\": 0, \"placa\": \"string\", \"tara\": 0, \"listaSemirreboque\": [{\"placa\": \"string\", \"tara\": 0}], \"taraConjunto\": 0, \"numConteinerUld\": \"string\", \"tipoConteinerUld\": \"string\", \"taraConteinerUld\": 0, \"pesoBrutoBalanca\": 0, \"capturaAutoPeso\": true, \"dutos\": \"E\", \"volume\": 0, \"balanca\": \"protocolo georref 05.21\", \"listaCameras\": [\"protocolo georref 05.21\", \"protocolo georref 05.21\"]}'"
      ]
     },
     "execution_count": 31,
     "metadata": {},
     "output_type": "execute_result"
    }
   ],
   "source": [
    "import json\n",
    "json.dumps(json_pesagem)"
   ]
  },
  {
   "cell_type": "code",
   "execution_count": null,
   "metadata": {},
   "outputs": [],
   "source": []
  }
 ],
 "metadata": {
  "kernelspec": {
   "display_name": "virasana",
   "language": "python",
   "name": "virasana"
  },
  "language_info": {
   "codemirror_mode": {
    "name": "ipython",
    "version": 3
   },
   "file_extension": ".py",
   "mimetype": "text/x-python",
   "name": "python",
   "nbconvert_exporter": "python",
   "pygments_lexer": "ipython3",
   "version": "3.7.4"
  }
 },
 "nbformat": 4,
 "nbformat_minor": 4
}
