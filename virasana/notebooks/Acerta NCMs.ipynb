{
 "cells": [
  {
   "cell_type": "code",
   "execution_count": 44,
   "metadata": {
    "ExecuteTime": {
     "end_time": "2019-10-15T12:15:00.616972Z",
     "start_time": "2019-10-15T12:14:14.763270Z"
    }
   },
   "outputs": [
    {
     "name": "stdout",
     "output_type": "stream",
     "text": [
      "8811 registros atualizados\n",
      "71 registros com erro\n"
     ]
    }
   ],
   "source": [
    "from pymongo import MongoClient\n",
    "from bson import ObjectId\n",
    "\n",
    "# from ajna_commons.flask.conf import DATABASE, MONGODB_URI\n",
    "\n",
    "conn = MongoClient(host='localhost')\n",
    "mongodb = conn['test']\n",
    "\n",
    "\n",
    "cont = 0\n",
    "conterros = 0\n",
    "for grid_data in mongodb['fs.files'].find(\n",
    "    {'metadata.carga.ncm': {'$ne': None}},\n",
    "    {'metadata.carga': 1}\n",
    "    ):\n",
    "    _id = grid_data.get('_id')\n",
    "    metadata = grid_data.get('metadata')\n",
    "    carga = metadata.get('carga')\n",
    "    conteiner = carga.get('container')\n",
    "    if isinstance(conteiner, list):\n",
    "        conteiner = conteiner[0]\n",
    "    item = conteiner['item']\n",
    "    ncms_antigo = carga.get('ncm')\n",
    "    ncms = [ncm for ncm in carga.get('ncm') if ncm['item'] == item]\n",
    "    if len(ncms) == 0:\n",
    "        conterros+=1\n",
    "        continue\n",
    "    if len(ncms) > 0 and len(ncms) < len(ncms_antigo):\n",
    "        # print('Antigo: %s' % carga.get('ncm'))\n",
    "        # print('Novo: %s' % ncms)\n",
    "        cont+=1\n",
    "        mongodb['fs.files'].update_one(\n",
    "            {'_id': _id},\n",
    "            {'$set': {'metadata.carga.ncm': ncms}})\n",
    "print('%d registros atualizados' % cont)\n",
    "print('%d registros com erro' % conterros)\n",
    "        "
   ]
  },
  {
   "cell_type": "code",
   "execution_count": null,
   "metadata": {},
   "outputs": [],
   "source": []
  }
 ],
 "metadata": {
  "kernelspec": {
   "display_name": "virasana-venv",
   "language": "python",
   "name": "virasana-venv"
  },
  "language_info": {
   "codemirror_mode": {
    "name": "ipython",
    "version": 3
   },
   "file_extension": ".py",
   "mimetype": "text/x-python",
   "name": "python",
   "nbconvert_exporter": "python",
   "pygments_lexer": "ipython3",
   "version": "3.5.2"
  }
 },
 "nbformat": 4,
 "nbformat_minor": 2
}
