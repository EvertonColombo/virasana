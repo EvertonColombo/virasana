{
 "cells": [
  {
   "cell_type": "code",
   "execution_count": 14,
   "metadata": {},
   "outputs": [],
   "source": [
    "import os \n",
    "import pandas as pd\n",
    "from sqlalchemy import create_engine\n",
    "\n",
    "SQL_URI = os.environ['SQL_URI']\n",
    "engine = create_engine(SQL_URI, pool_recycle=600)\n",
    "\n",
    "\n",
    "CAMINHO = 'C:\\\\Users\\\\25052288840\\\\Downloads'\n"
   ]
  },
  {
   "cell_type": "code",
   "execution_count": 27,
   "metadata": {},
   "outputs": [
    {
     "name": "stdout",
     "output_type": "stream",
     "text": [
      "219072\n"
     ]
    }
   ],
   "source": [
    "df = pd.read_csv(os.path.join(CAMINHO, 'empresas.csv'))\n",
    "print(len(df))"
   ]
  },
  {
   "cell_type": "code",
   "execution_count": 28,
   "metadata": {},
   "outputs": [],
   "source": [
    "df = df[['nr_interv_rad', 'nm_empresarial_pj']]"
   ]
  },
  {
   "cell_type": "code",
   "execution_count": 31,
   "metadata": {},
   "outputs": [],
   "source": [
    "df.columns=['cnpj', 'nome']"
   ]
  },
  {
   "cell_type": "code",
   "execution_count": 32,
   "metadata": {},
   "outputs": [
    {
     "data": {
      "text/html": [
       "<div>\n",
       "<style scoped>\n",
       "    .dataframe tbody tr th:only-of-type {\n",
       "        vertical-align: middle;\n",
       "    }\n",
       "\n",
       "    .dataframe tbody tr th {\n",
       "        vertical-align: top;\n",
       "    }\n",
       "\n",
       "    .dataframe thead th {\n",
       "        text-align: right;\n",
       "    }\n",
       "</style>\n",
       "<table border=\"1\" class=\"dataframe\">\n",
       "  <thead>\n",
       "    <tr style=\"text-align: right;\">\n",
       "      <th></th>\n",
       "      <th>cnpj</th>\n",
       "      <th>nome</th>\n",
       "    </tr>\n",
       "  </thead>\n",
       "  <tbody>\n",
       "    <tr>\n",
       "      <td>0</td>\n",
       "      <td>62379037</td>\n",
       "      <td>INDUSTRIA DE PRODUTOS ALIMENTICIOS MAVALERIO LTDA</td>\n",
       "    </tr>\n",
       "    <tr>\n",
       "      <td>1</td>\n",
       "      <td>15422692</td>\n",
       "      <td>INNOVARE INDUSTRIA E COMERCIO DE BEBIDAS LTDA</td>\n",
       "    </tr>\n",
       "    <tr>\n",
       "      <td>2</td>\n",
       "      <td>14764620</td>\n",
       "      <td>VIBE BRASIL SOFTWARE LTDA</td>\n",
       "    </tr>\n",
       "    <tr>\n",
       "      <td>3</td>\n",
       "      <td>34227630</td>\n",
       "      <td>KEMPIM COMERCIO, IMPORTACAO E EXPORTACAO DE PE...</td>\n",
       "    </tr>\n",
       "    <tr>\n",
       "      <td>4</td>\n",
       "      <td>15338104</td>\n",
       "      <td>SKY TOYS IMPORTACAO LTDA.</td>\n",
       "    </tr>\n",
       "  </tbody>\n",
       "</table>\n",
       "</div>"
      ],
      "text/plain": [
       "       cnpj                                               nome\n",
       "0  62379037  INDUSTRIA DE PRODUTOS ALIMENTICIOS MAVALERIO LTDA\n",
       "1  15422692      INNOVARE INDUSTRIA E COMERCIO DE BEBIDAS LTDA\n",
       "2  14764620                          VIBE BRASIL SOFTWARE LTDA\n",
       "3  34227630  KEMPIM COMERCIO, IMPORTACAO E EXPORTACAO DE PE...\n",
       "4  15338104                          SKY TOYS IMPORTACAO LTDA."
      ]
     },
     "execution_count": 32,
     "metadata": {},
     "output_type": "execute_result"
    }
   ],
   "source": [
    "df.head()"
   ]
  },
  {
   "cell_type": "code",
   "execution_count": 36,
   "metadata": {},
   "outputs": [],
   "source": [
    "\n",
    "df.to_sql('laudo_empresas', engine, if_exists='append', index=False)"
   ]
  },
  {
   "cell_type": "code",
   "execution_count": null,
   "metadata": {},
   "outputs": [],
   "source": []
  }
 ],
 "metadata": {
  "kernelspec": {
   "display_name": "Python 3",
   "language": "python",
   "name": "python3"
  },
  "language_info": {
   "codemirror_mode": {
    "name": "ipython",
    "version": 3
   },
   "file_extension": ".py",
   "mimetype": "text/x-python",
   "name": "python",
   "nbconvert_exporter": "python",
   "pygments_lexer": "ipython3",
   "version": "3.7.4"
  }
 },
 "nbformat": 4,
 "nbformat_minor": 2
}
